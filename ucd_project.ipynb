{
 "cells": [
  {
   "cell_type": "code",
   "execution_count": 2,
   "id": "ca820c18-1cf5-449f-8994-3ee9113c1465",
   "metadata": {},
   "outputs": [],
   "source": [
    "#\n",
    "import numpy as np\n",
    "import pandas as pd\n",
    "import seaborn as sns\n",
    "import matplotlib.pyplot as plt"
   ]
  },
  {
   "cell_type": "markdown",
   "id": "b933b31b-1462-4ded-a554-e28cd76fc74f",
   "metadata": {},
   "source": []
  },
  {
   "cell_type": "code",
   "execution_count": 3,
   "id": "8b5e931b-70d2-48ee-9558-2676936fd613",
   "metadata": {},
   "outputs": [
    {
     "data": {
      "text/html": [
       "<div>\n",
       "<style scoped>\n",
       "    .dataframe tbody tr th:only-of-type {\n",
       "        vertical-align: middle;\n",
       "    }\n",
       "\n",
       "    .dataframe tbody tr th {\n",
       "        vertical-align: top;\n",
       "    }\n",
       "\n",
       "    .dataframe thead th {\n",
       "        text-align: right;\n",
       "    }\n",
       "</style>\n",
       "<table border=\"1\" class=\"dataframe\">\n",
       "  <thead>\n",
       "    <tr style=\"text-align: right;\">\n",
       "      <th></th>\n",
       "      <th>country</th>\n",
       "      <th>indicator</th>\n",
       "      <th>Unit</th>\n",
       "      <th>Date</th>\n",
       "      <th>Value</th>\n",
       "    </tr>\n",
       "  </thead>\n",
       "  <tbody>\n",
       "    <tr>\n",
       "      <th>0</th>\n",
       "      <td>Democratic Republic of the Congo</td>\n",
       "      <td>Rank</td>\n",
       "      <td>rank, lowest=\"Very Clean\"</td>\n",
       "      <td>2018</td>\n",
       "      <td>161</td>\n",
       "    </tr>\n",
       "    <tr>\n",
       "      <th>1</th>\n",
       "      <td>Democratic Republic of the Congo</td>\n",
       "      <td>Rank</td>\n",
       "      <td>rank, lowest=\"Very Clean\"</td>\n",
       "      <td>2019</td>\n",
       "      <td>168</td>\n",
       "    </tr>\n",
       "    <tr>\n",
       "      <th>2</th>\n",
       "      <td>Democratic Republic of the Congo</td>\n",
       "      <td>Rank</td>\n",
       "      <td>rank, lowest=\"Very Clean\"</td>\n",
       "      <td>2020</td>\n",
       "      <td>170</td>\n",
       "    </tr>\n",
       "    <tr>\n",
       "      <th>3</th>\n",
       "      <td>Congo, Republic of the</td>\n",
       "      <td>Rank</td>\n",
       "      <td>rank, lowest=\"Very Clean\"</td>\n",
       "      <td>2018</td>\n",
       "      <td>165</td>\n",
       "    </tr>\n",
       "    <tr>\n",
       "      <th>4</th>\n",
       "      <td>Congo, Republic of the</td>\n",
       "      <td>Rank</td>\n",
       "      <td>rank, lowest=\"Very Clean\"</td>\n",
       "      <td>2019</td>\n",
       "      <td>165</td>\n",
       "    </tr>\n",
       "    <tr>\n",
       "      <th>...</th>\n",
       "      <td>...</td>\n",
       "      <td>...</td>\n",
       "      <td>...</td>\n",
       "      <td>...</td>\n",
       "      <td>...</td>\n",
       "    </tr>\n",
       "    <tr>\n",
       "      <th>532</th>\n",
       "      <td>Lebanon</td>\n",
       "      <td>Rank</td>\n",
       "      <td>rank, lowest=\"Very Clean\"</td>\n",
       "      <td>2019</td>\n",
       "      <td>137</td>\n",
       "    </tr>\n",
       "    <tr>\n",
       "      <th>533</th>\n",
       "      <td>Lebanon</td>\n",
       "      <td>Rank</td>\n",
       "      <td>rank, lowest=\"Very Clean\"</td>\n",
       "      <td>2020</td>\n",
       "      <td>149</td>\n",
       "    </tr>\n",
       "    <tr>\n",
       "      <th>534</th>\n",
       "      <td>Saudi Arabia</td>\n",
       "      <td>Rank</td>\n",
       "      <td>rank, lowest=\"Very Clean\"</td>\n",
       "      <td>2018</td>\n",
       "      <td>58</td>\n",
       "    </tr>\n",
       "    <tr>\n",
       "      <th>535</th>\n",
       "      <td>Saudi Arabia</td>\n",
       "      <td>Rank</td>\n",
       "      <td>rank, lowest=\"Very Clean\"</td>\n",
       "      <td>2019</td>\n",
       "      <td>51</td>\n",
       "    </tr>\n",
       "    <tr>\n",
       "      <th>536</th>\n",
       "      <td>Saudi Arabia</td>\n",
       "      <td>Rank</td>\n",
       "      <td>rank, lowest=\"Very Clean\"</td>\n",
       "      <td>2020</td>\n",
       "      <td>52</td>\n",
       "    </tr>\n",
       "  </tbody>\n",
       "</table>\n",
       "<p>537 rows × 5 columns</p>\n",
       "</div>"
      ],
      "text/plain": [
       "                              country indicator                       Unit  \\\n",
       "0    Democratic Republic of the Congo      Rank  rank, lowest=\"Very Clean\"   \n",
       "1    Democratic Republic of the Congo      Rank  rank, lowest=\"Very Clean\"   \n",
       "2    Democratic Republic of the Congo      Rank  rank, lowest=\"Very Clean\"   \n",
       "3              Congo, Republic of the      Rank  rank, lowest=\"Very Clean\"   \n",
       "4              Congo, Republic of the      Rank  rank, lowest=\"Very Clean\"   \n",
       "..                                ...       ...                        ...   \n",
       "532                           Lebanon      Rank  rank, lowest=\"Very Clean\"   \n",
       "533                           Lebanon      Rank  rank, lowest=\"Very Clean\"   \n",
       "534                      Saudi Arabia      Rank  rank, lowest=\"Very Clean\"   \n",
       "535                      Saudi Arabia      Rank  rank, lowest=\"Very Clean\"   \n",
       "536                      Saudi Arabia      Rank  rank, lowest=\"Very Clean\"   \n",
       "\n",
       "     Date  Value  \n",
       "0    2018    161  \n",
       "1    2019    168  \n",
       "2    2020    170  \n",
       "3    2018    165  \n",
       "4    2019    165  \n",
       "..    ...    ...  \n",
       "532  2019    137  \n",
       "533  2020    149  \n",
       "534  2018     58  \n",
       "535  2019     51  \n",
       "536  2020     52  \n",
       "\n",
       "[537 rows x 5 columns]"
      ]
     },
     "execution_count": 3,
     "metadata": {},
     "output_type": "execute_result"
    }
   ],
   "source": [
    "#data importation\n",
    "pd.read_csv(r'C:\\Users\\harun\\Desktop\\Data\\corruption.csv') \n",
    "corruption=pd.read_csv(r'C:\\Users\\harun\\Desktop\\Data\\corruption.csv')\n",
    "corruption\n"
   ]
  },
  {
   "cell_type": "code",
   "execution_count": 7,
   "id": "cda32578-facb-46c8-942a-b99c8184ed74",
   "metadata": {},
   "outputs": [],
   "source": [
    "#changing index to the date \n",
    "corruption_labelled = corruption.set_index('Date')"
   ]
  },
  {
   "cell_type": "code",
   "execution_count": 8,
   "id": "d5965b55-a70a-4a2c-9bf8-6067b98e5710",
   "metadata": {},
   "outputs": [],
   "source": [
    "#SLicing the rows by 2019 (dropping all 2018 rows) and dropping some colums\n",
    "corruption_labelled_2019 = corruption_labelled.loc[2019][['country','Value']]"
   ]
  },
  {
   "cell_type": "code",
   "execution_count": 9,
   "id": "45456642-fd81-413e-9edf-66d402159bff",
   "metadata": {},
   "outputs": [
    {
     "data": {
      "text/html": [
       "<div>\n",
       "<style scoped>\n",
       "    .dataframe tbody tr th:only-of-type {\n",
       "        vertical-align: middle;\n",
       "    }\n",
       "\n",
       "    .dataframe tbody tr th {\n",
       "        vertical-align: top;\n",
       "    }\n",
       "\n",
       "    .dataframe thead th {\n",
       "        text-align: right;\n",
       "    }\n",
       "</style>\n",
       "<table border=\"1\" class=\"dataframe\">\n",
       "  <thead>\n",
       "    <tr style=\"text-align: right;\">\n",
       "      <th></th>\n",
       "      <th>country</th>\n",
       "      <th>Value</th>\n",
       "    </tr>\n",
       "    <tr>\n",
       "      <th>Date</th>\n",
       "      <th></th>\n",
       "      <th></th>\n",
       "    </tr>\n",
       "  </thead>\n",
       "  <tbody>\n",
       "    <tr>\n",
       "      <th>2019</th>\n",
       "      <td>Democratic Republic of the Congo</td>\n",
       "      <td>168</td>\n",
       "    </tr>\n",
       "    <tr>\n",
       "      <th>2019</th>\n",
       "      <td>Congo, Republic of the</td>\n",
       "      <td>165</td>\n",
       "    </tr>\n",
       "    <tr>\n",
       "      <th>2019</th>\n",
       "      <td>Rwanda</td>\n",
       "      <td>51</td>\n",
       "    </tr>\n",
       "    <tr>\n",
       "      <th>2019</th>\n",
       "      <td>Ghana</td>\n",
       "      <td>80</td>\n",
       "    </tr>\n",
       "    <tr>\n",
       "      <th>2019</th>\n",
       "      <td>Algeria</td>\n",
       "      <td>106</td>\n",
       "    </tr>\n",
       "    <tr>\n",
       "      <th>...</th>\n",
       "      <td>...</td>\n",
       "      <td>...</td>\n",
       "    </tr>\n",
       "    <tr>\n",
       "      <th>2019</th>\n",
       "      <td>Israel</td>\n",
       "      <td>35</td>\n",
       "    </tr>\n",
       "    <tr>\n",
       "      <th>2019</th>\n",
       "      <td>Syria</td>\n",
       "      <td>178</td>\n",
       "    </tr>\n",
       "    <tr>\n",
       "      <th>2019</th>\n",
       "      <td>Jordan</td>\n",
       "      <td>60</td>\n",
       "    </tr>\n",
       "    <tr>\n",
       "      <th>2019</th>\n",
       "      <td>Lebanon</td>\n",
       "      <td>137</td>\n",
       "    </tr>\n",
       "    <tr>\n",
       "      <th>2019</th>\n",
       "      <td>Saudi Arabia</td>\n",
       "      <td>51</td>\n",
       "    </tr>\n",
       "  </tbody>\n",
       "</table>\n",
       "<p>179 rows × 2 columns</p>\n",
       "</div>"
      ],
      "text/plain": [
       "                               country  Value\n",
       "Date                                         \n",
       "2019  Democratic Republic of the Congo    168\n",
       "2019            Congo, Republic of the    165\n",
       "2019                            Rwanda     51\n",
       "2019                             Ghana     80\n",
       "2019                           Algeria    106\n",
       "...                                ...    ...\n",
       "2019                            Israel     35\n",
       "2019                             Syria    178\n",
       "2019                            Jordan     60\n",
       "2019                           Lebanon    137\n",
       "2019                      Saudi Arabia     51\n",
       "\n",
       "[179 rows x 2 columns]"
      ]
     },
     "execution_count": 9,
     "metadata": {},
     "output_type": "execute_result"
    }
   ],
   "source": [
    "corruption_labelled_2019"
   ]
  },
  {
   "cell_type": "code",
   "execution_count": null,
   "id": "3a7ac34b-b4a5-4e3d-8389-a250220ca750",
   "metadata": {},
   "outputs": [],
   "source": [
    "def Rank(corruption_labelled_2019):\n",
    "    if (corruption_labelled_2019['Value'] >= 40):\n",
    "        return 'Very clean'\n",
    "\n",
    "corruption_labelled_2019['Rank']=corruption_labelled_2019.apply(corruption_labelled_2019,axis=1)"
   ]
  },
  {
   "cell_type": "code",
   "execution_count": null,
   "id": "5756588f-6c7b-4858-a1d4-3056e13a7a98",
   "metadata": {},
   "outputs": [],
   "source": [
    "#corruption_2019.loc[corruption_2019[Value] =< 50 = 'Very clean'\n",
    "v = column of the  value\n",
    "if v is less than or greater 50\n",
    "v = clean\n",
    "elif\n",
    "v is less than or greater 100\n",
    "v = not clean\n",
    "else\n",
    "v\n",
    "\n",
    "\n"
   ]
  },
  {
   "cell_type": "code",
   "execution_count": null,
   "id": "a7c41774-402f-44e1-b05f-949da999464c",
   "metadata": {},
   "outputs": [],
   "source": [
    "#Data importation\n",
    "pd.read_csv(r'C:\\Users\\harun\\Desktop\\Data\\life_expectancy.csv')"
   ]
  },
  {
   "cell_type": "code",
   "execution_count": null,
   "id": "29b67f58-3af7-4f2a-8816-5781ce1f1aaf",
   "metadata": {},
   "outputs": [],
   "source": [
    "life_exp= pd.read_csv(r'C:\\Users\\harun\\Desktop\\Data\\life_expectancy.csv')"
   ]
  },
  {
   "cell_type": "code",
   "execution_count": null,
   "id": "185cc418-ee2f-4e02-91dc-8c1111fc5da2",
   "metadata": {},
   "outputs": [],
   "source": [
    "#Setting date as index\n",
    "life_exp_labelled = life_expectancy.set_index('Date')"
   ]
  },
  {
   "cell_type": "code",
   "execution_count": null,
   "id": "8330f2b8-6e27-44f4-a107-f325d488aa20",
   "metadata": {},
   "outputs": [],
   "source": [
    "#SLicing the rows by 2019 (dropping all 2018 rows) and dropping some colums\n",
    "life_exp_labelled1 = life_expectancy_labelled.loc[2019][['country','Value']]\n"
   ]
  },
  {
   "cell_type": "code",
   "execution_count": null,
   "id": "934dc26b-09e5-4ebf-92a4-36adc6575acf",
   "metadata": {},
   "outputs": [],
   "source": [
    "round(life_exp_labelled1['Value']) "
   ]
  },
  {
   "cell_type": "code",
   "execution_count": null,
   "id": "303e7df6-9a47-4101-bf74-6949556aeade",
   "metadata": {},
   "outputs": [],
   "source": [
    "#Data importation (GDP per capita)\n",
    "GDP = pd.read_csv(r'C:\\Users\\harun\\Desktop\\Data\\GDP.csv')"
   ]
  },
  {
   "cell_type": "code",
   "execution_count": null,
   "id": "d23b0145-5abd-4375-a176-d9c006b518e0",
   "metadata": {},
   "outputs": [],
   "source": [
    "#set index to date\n",
    "GDP_labelled = GDP.set_index('Date')"
   ]
  },
  {
   "cell_type": "code",
   "execution_count": 6,
   "id": "9ba6fe14-464a-45c8-bb92-b323b57d1dff",
   "metadata": {},
   "outputs": [
    {
     "ename": "NameError",
     "evalue": "name 'GDP_labelled' is not defined",
     "output_type": "error",
     "traceback": [
      "\u001b[1;31m---------------------------------------------------------------------------\u001b[0m",
      "\u001b[1;31mNameError\u001b[0m                                 Traceback (most recent call last)",
      "\u001b[1;32m<ipython-input-6-f030b42b19ef>\u001b[0m in \u001b[0;36m<module>\u001b[1;34m\u001b[0m\n\u001b[0;32m      1\u001b[0m \u001b[1;31m#SLicing the rows by 2019 (dropping all 2018 and 2020 rows) and dropping some columns\u001b[0m\u001b[1;33m\u001b[0m\u001b[1;33m\u001b[0m\u001b[1;33m\u001b[0m\u001b[0m\n\u001b[1;32m----> 2\u001b[1;33m \u001b[0mGDP_labelled\u001b[0m \u001b[1;33m=\u001b[0m \u001b[0mGDP_labelled\u001b[0m\u001b[1;33m.\u001b[0m\u001b[0mloc\u001b[0m\u001b[1;33m[\u001b[0m\u001b[1;36m2019\u001b[0m\u001b[1;33m]\u001b[0m\u001b[1;33m[\u001b[0m\u001b[1;33m[\u001b[0m\u001b[1;34m'country'\u001b[0m\u001b[1;33m,\u001b[0m\u001b[1;34m'Value'\u001b[0m\u001b[1;33m]\u001b[0m\u001b[1;33m]\u001b[0m\u001b[1;33m\u001b[0m\u001b[1;33m\u001b[0m\u001b[0m\n\u001b[0m\u001b[0;32m      3\u001b[0m \u001b[0mGDP_labelled\u001b[0m\u001b[1;33m.\u001b[0m\u001b[0mshape\u001b[0m\u001b[1;33m\u001b[0m\u001b[1;33m\u001b[0m\u001b[0m\n",
      "\u001b[1;31mNameError\u001b[0m: name 'GDP_labelled' is not defined"
     ]
    }
   ],
   "source": [
    "#SLicing the rows by 2019 (dropping all 2018 and 2020 rows) and dropping some columns\n",
    "GDP_labelled = GDP_labelled.loc[2019][['country','Value']]\n",
    "GDP_labelled.shape"
   ]
  },
  {
   "cell_type": "code",
   "execution_count": null,
   "id": "630e6f79-20bf-485a-b6d9-a62a8bb95df1",
   "metadata": {},
   "outputs": [],
   "source": [
    "?sort"
   ]
  },
  {
   "cell_type": "code",
   "execution_count": null,
   "id": "3638cb69-08b9-401f-9bbe-4d3316dd4ef0",
   "metadata": {},
   "outputs": [],
   "source": []
  }
 ],
 "metadata": {
  "kernelspec": {
   "display_name": "Python 3",
   "language": "python",
   "name": "python3"
  },
  "language_info": {
   "codemirror_mode": {
    "name": "ipython",
    "version": 3
   },
   "file_extension": ".py",
   "mimetype": "text/x-python",
   "name": "python",
   "nbconvert_exporter": "python",
   "pygments_lexer": "ipython3",
   "version": "3.8.8"
  }
 },
 "nbformat": 4,
 "nbformat_minor": 5
}
