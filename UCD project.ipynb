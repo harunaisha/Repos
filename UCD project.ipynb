{
 "cells": [
  {
   "cell_type": "code",
   "execution_count": 3,
   "id": "8e9a6d93-68c7-4c2f-bcf1-5bf703057869",
   "metadata": {},
   "outputs": [],
   "source": [
    "#Importing packages\n",
    "import numpy as np\n",
    "import pandas as pd\n",
    "import seaborn as sns\n",
    "import matplotlib.pyplot as plt"
   ]
  },
  {
   "cell_type": "code",
   "execution_count": 4,
   "id": "dee54abf-50bc-4905-baec-f150d423d1e1",
   "metadata": {},
   "outputs": [],
   "source": [
    "#data importation (corruption index)\n",
    "pd.read_csv(r'C:\\Users\\harun\\Desktop\\Data\\corruption.csv') \n",
    "corruption=pd.read_csv(r'C:\\Users\\harun\\Desktop\\Data\\corruption.csv')"
   ]
  },
  {
   "cell_type": "code",
   "execution_count": 5,
   "id": "3cae3b52-6159-4360-9dd5-93ebde889131",
   "metadata": {},
   "outputs": [],
   "source": [
    "#changing index to the date \n",
    "corruption_labelled = corruption.set_index('Date')\n"
   ]
  },
  {
   "cell_type": "code",
   "execution_count": 180,
   "id": "4d5aa38b-b04d-406e-b1f8-f485725ca481",
   "metadata": {},
   "outputs": [],
   "source": [
    "#slicing some columns and rows\n",
    "corruption_labelled_2019 = corruption_labelled.loc[2019][['country','Value']]\n"
   ]
  },
  {
   "cell_type": "code",
   "execution_count": 160,
   "id": "0e567528-da9e-4c56-b027-b85923093877",
   "metadata": {},
   "outputs": [],
   "source": [
    "#sorting df in ascending order using country\n",
    "corruption_new = corruption_labelled_2019.sort_values('country')"
   ]
  },
  {
   "cell_type": "code",
   "execution_count": 156,
   "id": "7ae3d767-3c9f-48bb-893e-ad9dd2977642",
   "metadata": {},
   "outputs": [],
   "source": [
    "#Nested if statement to return a new column \"Rank\"\n",
    "def rank(df):\n",
    "    if df['Value'] <= 40:\n",
    "        return 'Very clean'\n",
    "    elif df['Value'] > 40 and df['Value'] <= 80:\n",
    "        return 'Clean'\n",
    "    elif df['Value'] > 80 and df['Value'] <= 120:\n",
    "        return 'Average'\n",
    "    elif df['Value'] > 120 and df['Value'] <= 160:\n",
    "        return 'Corrupt'\n",
    "    else:\n",
    "    #elif df['Value'] > 160 and df['Value'] <= 200:\n",
    "        return 'Highly Corrupt'\n"
   ]
  },
  {
   "cell_type": "code",
   "execution_count": 171,
   "id": "69ce7b6f-9d8c-4232-8453-166a437d889a",
   "metadata": {},
   "outputs": [],
   "source": [
    "corruption_new['rank'] = corruption_new.apply(rank, axis=1)\n"
   ]
  },
  {
   "cell_type": "code",
   "execution_count": 175,
   "id": "36a3a3cd-6b1c-4eba-a656-a6472346169a",
   "metadata": {},
   "outputs": [
    {
     "data": {
      "text/html": [
       "<div>\n",
       "<style scoped>\n",
       "    .dataframe tbody tr th:only-of-type {\n",
       "        vertical-align: middle;\n",
       "    }\n",
       "\n",
       "    .dataframe tbody tr th {\n",
       "        vertical-align: top;\n",
       "    }\n",
       "\n",
       "    .dataframe thead th {\n",
       "        text-align: right;\n",
       "    }\n",
       "</style>\n",
       "<table border=\"1\" class=\"dataframe\">\n",
       "  <thead>\n",
       "    <tr style=\"text-align: right;\">\n",
       "      <th></th>\n",
       "      <th>country</th>\n",
       "      <th>corruption index</th>\n",
       "      <th>rank</th>\n",
       "    </tr>\n",
       "    <tr>\n",
       "      <th>Date</th>\n",
       "      <th></th>\n",
       "      <th></th>\n",
       "      <th></th>\n",
       "    </tr>\n",
       "  </thead>\n",
       "  <tbody>\n",
       "    <tr>\n",
       "      <th>2019</th>\n",
       "      <td>Afghanistan</td>\n",
       "      <td>173</td>\n",
       "      <td>Highly Corrupt</td>\n",
       "    </tr>\n",
       "    <tr>\n",
       "      <th>2019</th>\n",
       "      <td>Albania</td>\n",
       "      <td>106</td>\n",
       "      <td>Average</td>\n",
       "    </tr>\n",
       "  </tbody>\n",
       "</table>\n",
       "</div>"
      ],
      "text/plain": [
       "          country  corruption index            rank\n",
       "Date                                               \n",
       "2019  Afghanistan               173  Highly Corrupt\n",
       "2019      Albania               106         Average"
      ]
     },
     "execution_count": 175,
     "metadata": {},
     "output_type": "execute_result"
    }
   ],
   "source": [
    "#Renaming a column\n",
    "corruption_final = corruption_new.rename(columns={'Value':'corruption index'})\n",
    "corruption_final.head(2)"
   ]
  },
  {
   "cell_type": "code",
   "execution_count": 20,
   "id": "75a7a03a-28c2-491a-a5b5-252f96bf380e",
   "metadata": {},
   "outputs": [],
   "source": [
    "#Data importation (life expectancy)\n",
    "life_exp = pd.read_csv(r'C:\\Users\\harun\\Desktop\\Data\\life_expectancy.csv')\n"
   ]
  },
  {
   "cell_type": "code",
   "execution_count": 22,
   "id": "20bdbe22-a39a-48e6-81ff-dc7034256d39",
   "metadata": {},
   "outputs": [],
   "source": [
    "#Setting date as index\n",
    "life_exp_labelled =life_exp.set_index('Date')\n"
   ]
  },
  {
   "cell_type": "code",
   "execution_count": 169,
   "id": "20070e80-fefc-488c-ac1d-a7cd0553293a",
   "metadata": {},
   "outputs": [],
   "source": [
    "#SLicing the rows by 2019 (dropping all 2018 rows) and dropping some colums\n",
    "life_exp_labelled1 = life_exp_labelled.loc[2019][['country','Value']]\n",
    "\n",
    "#Sorting in ascending order\n",
    "life_exp_sorted = life_exp_labelled1.sort_values ('country')"
   ]
  },
  {
   "cell_type": "code",
   "execution_count": 174,
   "id": "01269691-1041-42d8-80f5-f29133b36961",
   "metadata": {},
   "outputs": [
    {
     "data": {
      "text/html": [
       "<div>\n",
       "<style scoped>\n",
       "    .dataframe tbody tr th:only-of-type {\n",
       "        vertical-align: middle;\n",
       "    }\n",
       "\n",
       "    .dataframe tbody tr th {\n",
       "        vertical-align: top;\n",
       "    }\n",
       "\n",
       "    .dataframe thead th {\n",
       "        text-align: right;\n",
       "    }\n",
       "</style>\n",
       "<table border=\"1\" class=\"dataframe\">\n",
       "  <thead>\n",
       "    <tr style=\"text-align: right;\">\n",
       "      <th></th>\n",
       "      <th>country</th>\n",
       "      <th>years</th>\n",
       "    </tr>\n",
       "    <tr>\n",
       "      <th>Date</th>\n",
       "      <th></th>\n",
       "      <th></th>\n",
       "    </tr>\n",
       "  </thead>\n",
       "  <tbody>\n",
       "    <tr>\n",
       "      <th>2019</th>\n",
       "      <td>Afghanistan</td>\n",
       "      <td>64.833</td>\n",
       "    </tr>\n",
       "    <tr>\n",
       "      <th>2019</th>\n",
       "      <td>Albania</td>\n",
       "      <td>78.573</td>\n",
       "    </tr>\n",
       "  </tbody>\n",
       "</table>\n",
       "</div>"
      ],
      "text/plain": [
       "          country   years\n",
       "Date                     \n",
       "2019  Afghanistan  64.833\n",
       "2019      Albania  78.573"
      ]
     },
     "execution_count": 174,
     "metadata": {},
     "output_type": "execute_result"
    }
   ],
   "source": [
    "#Renaming column from 'value' to 'years'\n",
    "life_exp_new = life_exp_labelled1.rename(columns={'Value':'years'})\n",
    "\n",
    "#Sorting in alphabetical order\n",
    "life_exp_new1 = life_exp_new.sort_values('country')\n",
    "life_exp_new1.head(2)"
   ]
  },
  {
   "cell_type": "code",
   "execution_count": 85,
   "id": "a2dda877-0210-4e60-8faa-b2cc68306b65",
   "metadata": {},
   "outputs": [],
   "source": [
    "#Data importation (GDP per capita)\n",
    "GDP = pd.read_csv(r'C:\\Users\\harun\\Desktop\\Data\\GDP.csv')"
   ]
  },
  {
   "cell_type": "code",
   "execution_count": 32,
   "id": "7ae95e72-cb16-4a5c-b49d-fd555ec330bc",
   "metadata": {},
   "outputs": [],
   "source": [
    "#Setting date as index\n",
    "GDP_labelled = GDP.set_index('Date')"
   ]
  },
  {
   "cell_type": "code",
   "execution_count": 176,
   "id": "5cb689ed-1198-4993-b9d7-b2c436236740",
   "metadata": {},
   "outputs": [
    {
     "data": {
      "text/html": [
       "<div>\n",
       "<style scoped>\n",
       "    .dataframe tbody tr th:only-of-type {\n",
       "        vertical-align: middle;\n",
       "    }\n",
       "\n",
       "    .dataframe tbody tr th {\n",
       "        vertical-align: top;\n",
       "    }\n",
       "\n",
       "    .dataframe thead th {\n",
       "        text-align: right;\n",
       "    }\n",
       "</style>\n",
       "<table border=\"1\" class=\"dataframe\">\n",
       "  <thead>\n",
       "    <tr style=\"text-align: right;\">\n",
       "      <th></th>\n",
       "      <th>country</th>\n",
       "      <th>Value</th>\n",
       "    </tr>\n",
       "    <tr>\n",
       "      <th>Date</th>\n",
       "      <th></th>\n",
       "      <th></th>\n",
       "    </tr>\n",
       "  </thead>\n",
       "  <tbody>\n",
       "    <tr>\n",
       "      <th>2019</th>\n",
       "      <td>American Samoa</td>\n",
       "      <td>9445.805028</td>\n",
       "    </tr>\n",
       "    <tr>\n",
       "      <th>2019</th>\n",
       "      <td>Australia</td>\n",
       "      <td>57183.379350</td>\n",
       "    </tr>\n",
       "  </tbody>\n",
       "</table>\n",
       "</div>"
      ],
      "text/plain": [
       "             country         Value\n",
       "Date                              \n",
       "2019  American Samoa   9445.805028\n",
       "2019       Australia  57183.379350"
      ]
     },
     "execution_count": 176,
     "metadata": {},
     "output_type": "execute_result"
    }
   ],
   "source": [
    "#SLicing the rows by 2019 (dropping all 2018 rows) and dropping some colums\n",
    "GDP_labelled1 = GDP_labelled.loc[2019][['country','Value']]\n",
    "GDP_labelled1.head(2)"
   ]
  },
  {
   "cell_type": "code",
   "execution_count": 177,
   "id": "11e61ab4-166d-47bd-980a-c1ccff115c3b",
   "metadata": {},
   "outputs": [],
   "source": [
    "#Data importation (population 2019)\n",
    "population = pd.read_csv(r'C:\\Users\\harun\\Desktop\\Data\\population.csv')"
   ]
  },
  {
   "cell_type": "code",
   "execution_count": 178,
   "id": "3889c859-2ed2-400a-a29c-44b445c71a9c",
   "metadata": {},
   "outputs": [
    {
     "data": {
      "text/html": [
       "<div>\n",
       "<style scoped>\n",
       "    .dataframe tbody tr th:only-of-type {\n",
       "        vertical-align: middle;\n",
       "    }\n",
       "\n",
       "    .dataframe tbody tr th {\n",
       "        vertical-align: top;\n",
       "    }\n",
       "\n",
       "    .dataframe thead th {\n",
       "        text-align: right;\n",
       "    }\n",
       "</style>\n",
       "<table border=\"1\" class=\"dataframe\">\n",
       "  <thead>\n",
       "    <tr style=\"text-align: right;\">\n",
       "      <th></th>\n",
       "      <th>country</th>\n",
       "      <th>population</th>\n",
       "    </tr>\n",
       "  </thead>\n",
       "  <tbody>\n",
       "    <tr>\n",
       "      <th>0</th>\n",
       "      <td>Afghanistan</td>\n",
       "      <td>38051.0</td>\n",
       "    </tr>\n",
       "    <tr>\n",
       "      <th>1</th>\n",
       "      <td>Albania</td>\n",
       "      <td>2880.0</td>\n",
       "    </tr>\n",
       "  </tbody>\n",
       "</table>\n",
       "</div>"
      ],
      "text/plain": [
       "       country  population\n",
       "0  Afghanistan     38051.0\n",
       "1      Albania      2880.0"
      ]
     },
     "execution_count": 178,
     "metadata": {},
     "output_type": "execute_result"
    }
   ],
   "source": [
    "#Renaming a column \n",
    "population_new = population.rename(columns={'Population in thousands':'population'})\n",
    "\n",
    "#sort in ascending order\n",
    "population_sorted = population_new.sort_values('country')\n",
    "population_sorted\n",
    "\n",
    "#Round up values to nearest thousand\n",
    "population_sorted1 = population_sorted.round({\"population\":0})\n",
    "\n",
    "population_sorted1.head(2)\n"
   ]
  },
  {
   "cell_type": "code",
   "execution_count": 179,
   "id": "1fb4e9d8-ef15-4810-aa75-d4b1b84052ba",
   "metadata": {},
   "outputs": [
    {
     "data": {
      "text/html": [
       "<div>\n",
       "<style scoped>\n",
       "    .dataframe tbody tr th:only-of-type {\n",
       "        vertical-align: middle;\n",
       "    }\n",
       "\n",
       "    .dataframe tbody tr th {\n",
       "        vertical-align: top;\n",
       "    }\n",
       "\n",
       "    .dataframe thead th {\n",
       "        text-align: right;\n",
       "    }\n",
       "</style>\n",
       "<table border=\"1\" class=\"dataframe\">\n",
       "  <thead>\n",
       "    <tr style=\"text-align: right;\">\n",
       "      <th></th>\n",
       "      <th>country</th>\n",
       "      <th>Natural resource rent share of GDP%</th>\n",
       "    </tr>\n",
       "  </thead>\n",
       "  <tbody>\n",
       "    <tr>\n",
       "      <th>135</th>\n",
       "      <td>Afghanistan</td>\n",
       "      <td>0.77</td>\n",
       "    </tr>\n",
       "    <tr>\n",
       "      <th>30</th>\n",
       "      <td>Albania</td>\n",
       "      <td>1.59</td>\n",
       "    </tr>\n",
       "  </tbody>\n",
       "</table>\n",
       "</div>"
      ],
      "text/plain": [
       "         country  Natural resource rent share of GDP%\n",
       "135  Afghanistan                                 0.77\n",
       "30       Albania                                 1.59"
      ]
     },
     "execution_count": 179,
     "metadata": {},
     "output_type": "execute_result"
    }
   ],
   "source": [
    "#Data Importation (Natural resource rent share of GDP)\n",
    "Nat_res = pd.read_csv(r'C:\\Users\\harun\\Desktop\\Data\\Nat_res.csv') \n",
    "\n",
    "#Sort in ascending order using country\n",
    "Nat_res1 = Nat_res.sort_values('country')\n",
    "\n",
    "#Round up 'Natural resource' to 2 decimal places\n",
    "Nat_res2 = Nat_res1.round({\"Natural resource rent share of GDP%\":2})\n",
    "Nat_res2.head(2)\n"
   ]
  },
  {
   "cell_type": "code",
   "execution_count": null,
   "id": "06404487-ed7c-480b-92f2-6e2e3038764c",
   "metadata": {},
   "outputs": [],
   "source": []
  },
  {
   "cell_type": "code",
   "execution_count": 185,
   "id": "4f41ae1b-341f-4482-be8c-8096d1a6d8ef",
   "metadata": {},
   "outputs": [
    {
     "ename": "InvalidIndexError",
     "evalue": "Reindexing only valid with uniquely valued Index objects",
     "output_type": "error",
     "traceback": [
      "\u001b[1;31m---------------------------------------------------------------------------\u001b[0m",
      "\u001b[1;31mInvalidIndexError\u001b[0m                         Traceback (most recent call last)",
      "\u001b[1;32m<ipython-input-185-fe3c336a5051>\u001b[0m in \u001b[0;36m<module>\u001b[1;34m\u001b[0m\n\u001b[1;32m----> 1\u001b[1;33m \u001b[0mpd\u001b[0m\u001b[1;33m.\u001b[0m\u001b[0mconcat\u001b[0m\u001b[1;33m(\u001b[0m\u001b[1;33m[\u001b[0m\u001b[0mcorruption_final\u001b[0m\u001b[1;33m,\u001b[0m \u001b[0mlife_exp_new1\u001b[0m\u001b[1;33m]\u001b[0m\u001b[1;33m,\u001b[0m \u001b[0maxis\u001b[0m \u001b[1;33m=\u001b[0m \u001b[1;36m1\u001b[0m\u001b[1;33m)\u001b[0m\u001b[1;33m\u001b[0m\u001b[1;33m\u001b[0m\u001b[0m\n\u001b[0m",
      "\u001b[1;32m~\\anaconda3\\lib\\site-packages\\pandas\\core\\reshape\\concat.py\u001b[0m in \u001b[0;36mconcat\u001b[1;34m(objs, axis, join, ignore_index, keys, levels, names, verify_integrity, sort, copy)\u001b[0m\n\u001b[0;32m    296\u001b[0m     )\n\u001b[0;32m    297\u001b[0m \u001b[1;33m\u001b[0m\u001b[0m\n\u001b[1;32m--> 298\u001b[1;33m     \u001b[1;32mreturn\u001b[0m \u001b[0mop\u001b[0m\u001b[1;33m.\u001b[0m\u001b[0mget_result\u001b[0m\u001b[1;33m(\u001b[0m\u001b[1;33m)\u001b[0m\u001b[1;33m\u001b[0m\u001b[1;33m\u001b[0m\u001b[0m\n\u001b[0m\u001b[0;32m    299\u001b[0m \u001b[1;33m\u001b[0m\u001b[0m\n\u001b[0;32m    300\u001b[0m \u001b[1;33m\u001b[0m\u001b[0m\n",
      "\u001b[1;32m~\\anaconda3\\lib\\site-packages\\pandas\\core\\reshape\\concat.py\u001b[0m in \u001b[0;36mget_result\u001b[1;34m(self)\u001b[0m\n\u001b[0;32m    514\u001b[0m                     \u001b[0mobj_labels\u001b[0m \u001b[1;33m=\u001b[0m \u001b[0mobj\u001b[0m\u001b[1;33m.\u001b[0m\u001b[0maxes\u001b[0m\u001b[1;33m[\u001b[0m\u001b[1;36m1\u001b[0m \u001b[1;33m-\u001b[0m \u001b[0max\u001b[0m\u001b[1;33m]\u001b[0m\u001b[1;33m\u001b[0m\u001b[1;33m\u001b[0m\u001b[0m\n\u001b[0;32m    515\u001b[0m                     \u001b[1;32mif\u001b[0m \u001b[1;32mnot\u001b[0m \u001b[0mnew_labels\u001b[0m\u001b[1;33m.\u001b[0m\u001b[0mequals\u001b[0m\u001b[1;33m(\u001b[0m\u001b[0mobj_labels\u001b[0m\u001b[1;33m)\u001b[0m\u001b[1;33m:\u001b[0m\u001b[1;33m\u001b[0m\u001b[1;33m\u001b[0m\u001b[0m\n\u001b[1;32m--> 516\u001b[1;33m                         \u001b[0mindexers\u001b[0m\u001b[1;33m[\u001b[0m\u001b[0max\u001b[0m\u001b[1;33m]\u001b[0m \u001b[1;33m=\u001b[0m \u001b[0mobj_labels\u001b[0m\u001b[1;33m.\u001b[0m\u001b[0mget_indexer\u001b[0m\u001b[1;33m(\u001b[0m\u001b[0mnew_labels\u001b[0m\u001b[1;33m)\u001b[0m\u001b[1;33m\u001b[0m\u001b[1;33m\u001b[0m\u001b[0m\n\u001b[0m\u001b[0;32m    517\u001b[0m \u001b[1;33m\u001b[0m\u001b[0m\n\u001b[0;32m    518\u001b[0m                 \u001b[0mmgrs_indexers\u001b[0m\u001b[1;33m.\u001b[0m\u001b[0mappend\u001b[0m\u001b[1;33m(\u001b[0m\u001b[1;33m(\u001b[0m\u001b[0mobj\u001b[0m\u001b[1;33m.\u001b[0m\u001b[0m_mgr\u001b[0m\u001b[1;33m,\u001b[0m \u001b[0mindexers\u001b[0m\u001b[1;33m)\u001b[0m\u001b[1;33m)\u001b[0m\u001b[1;33m\u001b[0m\u001b[1;33m\u001b[0m\u001b[0m\n",
      "\u001b[1;32m~\\anaconda3\\lib\\site-packages\\pandas\\core\\indexes\\base.py\u001b[0m in \u001b[0;36mget_indexer\u001b[1;34m(self, target, method, limit, tolerance)\u001b[0m\n\u001b[0;32m   3169\u001b[0m \u001b[1;33m\u001b[0m\u001b[0m\n\u001b[0;32m   3170\u001b[0m         \u001b[1;32mif\u001b[0m \u001b[1;32mnot\u001b[0m \u001b[0mself\u001b[0m\u001b[1;33m.\u001b[0m\u001b[0mis_unique\u001b[0m\u001b[1;33m:\u001b[0m\u001b[1;33m\u001b[0m\u001b[1;33m\u001b[0m\u001b[0m\n\u001b[1;32m-> 3171\u001b[1;33m             raise InvalidIndexError(\n\u001b[0m\u001b[0;32m   3172\u001b[0m                 \u001b[1;34m\"Reindexing only valid with uniquely valued Index objects\"\u001b[0m\u001b[1;33m\u001b[0m\u001b[1;33m\u001b[0m\u001b[0m\n\u001b[0;32m   3173\u001b[0m             )\n",
      "\u001b[1;31mInvalidIndexError\u001b[0m: Reindexing only valid with uniquely valued Index objects"
     ]
    }
   ],
   "source": [
    "#concatenati\n",
    "pd.concat([corruption_final, life_exp_new1], axis = 1)"
   ]
  },
  {
   "cell_type": "code",
   "execution_count": null,
   "id": "4ad92a1a-f0b1-40c9-a0cd-95ae96140b9c",
   "metadata": {},
   "outputs": [],
   "source": []
  },
  {
   "cell_type": "code",
   "execution_count": null,
   "id": "9be9b07a-ce56-4856-964d-fa97b28244a4",
   "metadata": {},
   "outputs": [],
   "source": []
  }
 ],
 "metadata": {
  "kernelspec": {
   "display_name": "Python 3",
   "language": "python",
   "name": "python3"
  },
  "language_info": {
   "codemirror_mode": {
    "name": "ipython",
    "version": 3
   },
   "file_extension": ".py",
   "mimetype": "text/x-python",
   "name": "python",
   "nbconvert_exporter": "python",
   "pygments_lexer": "ipython3",
   "version": "3.8.8"
  }
 },
 "nbformat": 4,
 "nbformat_minor": 5
}
