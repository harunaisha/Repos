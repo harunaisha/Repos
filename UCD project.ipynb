{
 "cells": [
  {
   "cell_type": "code",
   "execution_count": 6,
   "id": "8e9a6d93-68c7-4c2f-bcf1-5bf703057869",
   "metadata": {},
   "outputs": [],
   "source": [
    "#Importing packages\n",
    "import numpy as np\n",
    "import pandas as pd\n",
    "import seaborn as sns\n",
    "import matplotlib.pyplot as plt"
   ]
  },
  {
   "cell_type": "code",
   "execution_count": 69,
   "id": "dee54abf-50bc-4905-baec-f150d423d1e1",
   "metadata": {},
   "outputs": [],
   "source": [
    "#data importation (corruption index)\n",
    "pd.read_csv(r'C:\\Users\\harun\\Desktop\\Data\\corruption.csv') \n",
    "corruption=pd.read_csv(r'C:\\Users\\harun\\Desktop\\Data\\corruption.csv')"
   ]
  },
  {
   "cell_type": "code",
   "execution_count": 8,
   "id": "3cae3b52-6159-4360-9dd5-93ebde889131",
   "metadata": {},
   "outputs": [],
   "source": [
    "#changing index to the date \n",
    "corruption_labelled = corruption.set_index('Date')"
   ]
  },
  {
   "cell_type": "code",
   "execution_count": 169,
   "id": "4d5aa38b-b04d-406e-b1f8-f485725ca481",
   "metadata": {},
   "outputs": [],
   "source": [
    "#slicing \n",
    "corruption_labelled_2019 = corruption_labelled.loc[2019][['country','Value']]\n"
   ]
  },
  {
   "cell_type": "code",
   "execution_count": 10,
   "id": "0e567528-da9e-4c56-b027-b85923093877",
   "metadata": {},
   "outputs": [],
   "source": [
    "#sorting df in ascending order using country\n",
    "corruption_new = corruption_labelled_2019.sort_values('country')"
   ]
  },
  {
   "cell_type": "code",
   "execution_count": 11,
   "id": "7ae3d767-3c9f-48bb-893e-ad9dd2977642",
   "metadata": {},
   "outputs": [],
   "source": [
    "#Nested if (conditional) statement to return a new column \"rank\"\n",
    "#Defining a new function (rank)\n",
    "def rank(df):\n",
    "    if df['Value'] <= 40:\n",
    "        return 'Very clean'\n",
    "    elif df['Value'] > 40 and df['Value'] <= 80:\n",
    "        return 'Clean'\n",
    "    elif df['Value'] > 80 and df['Value'] <= 120:\n",
    "        return 'Average'\n",
    "    elif df['Value'] > 120 and df['Value'] <= 160:\n",
    "        return 'Corrupt'\n",
    "    else:\n",
    "    #elif df['Value'] > 160 and df['Value'] <= 200:\n",
    "        return 'Highly Corrupt'\n"
   ]
  },
  {
   "cell_type": "code",
   "execution_count": 12,
   "id": "69ce7b6f-9d8c-4232-8453-166a437d889a",
   "metadata": {},
   "outputs": [],
   "source": [
    "corruption_new['rank'] = corruption_new.apply(rank, axis=1)\n"
   ]
  },
  {
   "cell_type": "code",
   "execution_count": 228,
   "id": "36a3a3cd-6b1c-4eba-a656-a6472346169a",
   "metadata": {},
   "outputs": [],
   "source": [
    "#Renaming a column\n",
    "corruption_final = corruption_new.rename(columns={'Value':'corruption index'})\n"
   ]
  },
  {
   "cell_type": "code",
   "execution_count": 150,
   "id": "75a7a03a-28c2-491a-a5b5-252f96bf380e",
   "metadata": {},
   "outputs": [],
   "source": [
    "#Data importation (life expectancy)\n",
    "life_exp = pd.read_csv(r'C:\\Users\\harun\\Desktop\\Data\\life_expectancy.csv')"
   ]
  },
  {
   "cell_type": "code",
   "execution_count": 16,
   "id": "20bdbe22-a39a-48e6-81ff-dc7034256d39",
   "metadata": {},
   "outputs": [],
   "source": [
    "#Setting date as index\n",
    "life_exp_labelled =life_exp.set_index('Date')"
   ]
  },
  {
   "cell_type": "code",
   "execution_count": 17,
   "id": "20070e80-fefc-488c-ac1d-a7cd0553293a",
   "metadata": {},
   "outputs": [],
   "source": [
    "#SLicing the rows by 2019 (dropping all 2018 rows) and dropping some colums\n",
    "life_exp_labelled1 = life_exp_labelled.loc[2019][['country','Value']]"
   ]
  },
  {
   "cell_type": "code",
   "execution_count": 71,
   "id": "01269691-1041-42d8-80f5-f29133b36961",
   "metadata": {},
   "outputs": [],
   "source": [
    "#Renaming column from 'value' to 'years'\n",
    "life_exp_new = life_exp_labelled1.rename(columns={'Value':'life exp(yrs)'})\n",
    "\n",
    "#Sorting in alphabetical order\n",
    "life_exp_new1 = life_exp_new.sort_values('country')\n",
    "\n",
    "#Rounding up values\n",
    "life_exp_final = life_exp_new1.round({'life exp(yrs)':0})"
   ]
  },
  {
   "cell_type": "code",
   "execution_count": 151,
   "id": "a2dda877-0210-4e60-8faa-b2cc68306b65",
   "metadata": {},
   "outputs": [],
   "source": [
    "#Data importation (GDP per capita)\n",
    "GDP = pd.read_csv(r'C:\\Users\\harun\\Desktop\\Data\\GDP.csv')"
   ]
  },
  {
   "cell_type": "code",
   "execution_count": 21,
   "id": "7ae95e72-cb16-4a5c-b49d-fd555ec330bc",
   "metadata": {},
   "outputs": [],
   "source": [
    "#Setting date as index\n",
    "GDP_labelled = GDP.set_index('Date')"
   ]
  },
  {
   "cell_type": "code",
   "execution_count": 22,
   "id": "5cb689ed-1198-4993-b9d7-b2c436236740",
   "metadata": {},
   "outputs": [
    {
     "data": {
      "text/html": [
       "<div>\n",
       "<style scoped>\n",
       "    .dataframe tbody tr th:only-of-type {\n",
       "        vertical-align: middle;\n",
       "    }\n",
       "\n",
       "    .dataframe tbody tr th {\n",
       "        vertical-align: top;\n",
       "    }\n",
       "\n",
       "    .dataframe thead th {\n",
       "        text-align: right;\n",
       "    }\n",
       "</style>\n",
       "<table border=\"1\" class=\"dataframe\">\n",
       "  <thead>\n",
       "    <tr style=\"text-align: right;\">\n",
       "      <th></th>\n",
       "      <th>country</th>\n",
       "      <th>gdp</th>\n",
       "    </tr>\n",
       "    <tr>\n",
       "      <th>Date</th>\n",
       "      <th></th>\n",
       "      <th></th>\n",
       "    </tr>\n",
       "  </thead>\n",
       "  <tbody>\n",
       "    <tr>\n",
       "      <th>2019</th>\n",
       "      <td>Afghanistan</td>\n",
       "      <td>573.29</td>\n",
       "    </tr>\n",
       "    <tr>\n",
       "      <th>2019</th>\n",
       "      <td>Africa Eastern and Southern</td>\n",
       "      <td>1598.38</td>\n",
       "    </tr>\n",
       "    <tr>\n",
       "      <th>2019</th>\n",
       "      <td>Albania</td>\n",
       "      <td>5207.31</td>\n",
       "    </tr>\n",
       "    <tr>\n",
       "      <th>2019</th>\n",
       "      <td>Algeria</td>\n",
       "      <td>4701.28</td>\n",
       "    </tr>\n",
       "    <tr>\n",
       "      <th>2019</th>\n",
       "      <td>American Samoa</td>\n",
       "      <td>9445.81</td>\n",
       "    </tr>\n",
       "    <tr>\n",
       "      <th>...</th>\n",
       "      <td>...</td>\n",
       "      <td>...</td>\n",
       "    </tr>\n",
       "    <tr>\n",
       "      <th>2019</th>\n",
       "      <td>Vanuatu</td>\n",
       "      <td>2865.79</td>\n",
       "    </tr>\n",
       "    <tr>\n",
       "      <th>2019</th>\n",
       "      <td>Vietnam</td>\n",
       "      <td>2082.24</td>\n",
       "    </tr>\n",
       "    <tr>\n",
       "      <th>2019</th>\n",
       "      <td>West Bank and Gaza</td>\n",
       "      <td>2951.37</td>\n",
       "    </tr>\n",
       "    <tr>\n",
       "      <th>2019</th>\n",
       "      <td>Zambia</td>\n",
       "      <td>1653.83</td>\n",
       "    </tr>\n",
       "    <tr>\n",
       "      <th>2019</th>\n",
       "      <td>Zimbabwe</td>\n",
       "      <td>1168.01</td>\n",
       "    </tr>\n",
       "  </tbody>\n",
       "</table>\n",
       "<p>195 rows × 2 columns</p>\n",
       "</div>"
      ],
      "text/plain": [
       "                          country      gdp\n",
       "Date                                      \n",
       "2019                  Afghanistan   573.29\n",
       "2019  Africa Eastern and Southern  1598.38\n",
       "2019                      Albania  5207.31\n",
       "2019                      Algeria  4701.28\n",
       "2019               American Samoa  9445.81\n",
       "...                           ...      ...\n",
       "2019                      Vanuatu  2865.79\n",
       "2019                      Vietnam  2082.24\n",
       "2019           West Bank and Gaza  2951.37\n",
       "2019                       Zambia  1653.83\n",
       "2019                     Zimbabwe  1168.01\n",
       "\n",
       "[195 rows x 2 columns]"
      ]
     },
     "execution_count": 22,
     "metadata": {},
     "output_type": "execute_result"
    }
   ],
   "source": [
    "#SLicing the rows by 2019 (dropping all 2018 and 2020 rows)\n",
    "GDP_labelled1 = GDP_labelled.loc[2019][['country','Value']]\n",
    "\n",
    "#sort in ascending order\n",
    "GDP_sorted = GDP_labelled1.sort_values('country')\n",
    "\n",
    "#Renaming a column from 'value' to 'gdp'\n",
    "GDP_final = GDP_sorted.rename(columns={'Value':'gdp'})\n",
    "\n",
    "#Rounding up to 2 decimal places\n",
    "GDP_final.round({'gdp':2})"
   ]
  },
  {
   "cell_type": "code",
   "execution_count": 23,
   "id": "11e61ab4-166d-47bd-980a-c1ccff115c3b",
   "metadata": {},
   "outputs": [],
   "source": [
    "#Data importation (population 2019)\n",
    "population = pd.read_csv(r'C:\\Users\\harun\\Desktop\\Data\\population.csv')"
   ]
  },
  {
   "cell_type": "code",
   "execution_count": 24,
   "id": "3889c859-2ed2-400a-a29c-44b445c71a9c",
   "metadata": {},
   "outputs": [
    {
     "data": {
      "text/plain": [
       "(203, 2)"
      ]
     },
     "execution_count": 24,
     "metadata": {},
     "output_type": "execute_result"
    }
   ],
   "source": [
    "#Renaming a column \n",
    "population_new = population.rename(columns={'Population in thousands':'population'})\n",
    "\n",
    "#sort in ascending order\n",
    "population_sorted = population_new.sort_values('country')\n",
    "\n",
    "#Round up values to nearest thousand\n",
    "population_sorted1 = population_sorted.round({\"population\":0})\n",
    "population_sorted1.shape"
   ]
  },
  {
   "cell_type": "code",
   "execution_count": 25,
   "id": "1fb4e9d8-ef15-4810-aa75-d4b1b84052ba",
   "metadata": {},
   "outputs": [
    {
     "data": {
      "text/plain": [
       "(188, 2)"
      ]
     },
     "execution_count": 25,
     "metadata": {},
     "output_type": "execute_result"
    }
   ],
   "source": [
    "#Data Importation (Natural resource rent share of GDP)\n",
    "Nat_res = pd.read_csv(r'C:\\Users\\harun\\Desktop\\Data\\Nat_res.csv') \n",
    "\n",
    "Nat_res.shape"
   ]
  },
  {
   "cell_type": "code",
   "execution_count": 26,
   "id": "4ad92a1a-f0b1-40c9-a0cd-95ae96140b9c",
   "metadata": {},
   "outputs": [
    {
     "data": {
      "text/html": [
       "<div>\n",
       "<style scoped>\n",
       "    .dataframe tbody tr th:only-of-type {\n",
       "        vertical-align: middle;\n",
       "    }\n",
       "\n",
       "    .dataframe tbody tr th {\n",
       "        vertical-align: top;\n",
       "    }\n",
       "\n",
       "    .dataframe thead th {\n",
       "        text-align: right;\n",
       "    }\n",
       "</style>\n",
       "<table border=\"1\" class=\"dataframe\">\n",
       "  <thead>\n",
       "    <tr style=\"text-align: right;\">\n",
       "      <th></th>\n",
       "      <th>country</th>\n",
       "      <th>Natural resource rent share of GDP%</th>\n",
       "    </tr>\n",
       "  </thead>\n",
       "  <tbody>\n",
       "    <tr>\n",
       "      <th>135</th>\n",
       "      <td>Afghanistan</td>\n",
       "      <td>0.77</td>\n",
       "    </tr>\n",
       "    <tr>\n",
       "      <th>30</th>\n",
       "      <td>Albania</td>\n",
       "      <td>1.59</td>\n",
       "    </tr>\n",
       "    <tr>\n",
       "      <th>113</th>\n",
       "      <td>Algeria</td>\n",
       "      <td>16.42</td>\n",
       "    </tr>\n",
       "    <tr>\n",
       "      <th>31</th>\n",
       "      <td>Andorra</td>\n",
       "      <td>0.00</td>\n",
       "    </tr>\n",
       "    <tr>\n",
       "      <th>143</th>\n",
       "      <td>Angola</td>\n",
       "      <td>26.19</td>\n",
       "    </tr>\n",
       "    <tr>\n",
       "      <th>79</th>\n",
       "      <td>Antigua and Barbuda</td>\n",
       "      <td>0.00</td>\n",
       "    </tr>\n",
       "    <tr>\n",
       "      <th>80</th>\n",
       "      <td>Argentina</td>\n",
       "      <td>2.07</td>\n",
       "    </tr>\n",
       "    <tr>\n",
       "      <th>32</th>\n",
       "      <td>Armenia</td>\n",
       "      <td>2.11</td>\n",
       "    </tr>\n",
       "    <tr>\n",
       "      <th>1</th>\n",
       "      <td>Australia</td>\n",
       "      <td>5.36</td>\n",
       "    </tr>\n",
       "    <tr>\n",
       "      <th>33</th>\n",
       "      <td>Austria</td>\n",
       "      <td>0.13</td>\n",
       "    </tr>\n",
       "  </tbody>\n",
       "</table>\n",
       "</div>"
      ],
      "text/plain": [
       "                 country  Natural resource rent share of GDP%\n",
       "135          Afghanistan                                 0.77\n",
       "30               Albania                                 1.59\n",
       "113              Algeria                                16.42\n",
       "31               Andorra                                 0.00\n",
       "143               Angola                                26.19\n",
       "79   Antigua and Barbuda                                 0.00\n",
       "80             Argentina                                 2.07\n",
       "32               Armenia                                 2.11\n",
       "1              Australia                                 5.36\n",
       "33               Austria                                 0.13"
      ]
     },
     "execution_count": 26,
     "metadata": {},
     "output_type": "execute_result"
    }
   ],
   "source": [
    "#Sort in ascending order using country\n",
    "Nat_res1 = Nat_res.sort_values('country')\n",
    "\n",
    "#Round up 'Natural resource' to 2 decimal places\n",
    "Nat_res2 = Nat_res1.round({\"Natural resource rent share of GDP%\":2})\n",
    "Nat_res2.head(10)"
   ]
  },
  {
   "cell_type": "code",
   "execution_count": 30,
   "id": "9be9b07a-ce56-4856-964d-fa97b28244a4",
   "metadata": {},
   "outputs": [],
   "source": [
    "#Merging dataframes Corruption and life expectancy\n",
    "corruption_merged = corruption_final.merge(life_exp_final,how = 'left')\n",
    "\n",
    "#Merging dataframes new_df and GDP per capita\n",
    "new_df = corruption_merged.merge(GDP_final, how = 'left')\n",
    "\n",
    "\n",
    "#Merging dataframes new_df1 and population\n",
    "new_df1 = new_df.merge(population_sorted1, how = 'left')\n",
    "\n",
    "\n",
    "#Merging dataframes new_df2 and Natural resource\n",
    "new_df2 = new_df1.merge(Nat_res2, how = 'left')\n",
    "\n",
    "new_df3 = new_df2.merge(food_prod, how = 'left')\n"
   ]
  },
  {
   "cell_type": "code",
   "execution_count": 167,
   "id": "f6ffc0e1-7e6e-4cb1-b5d7-4c36e8915b7d",
   "metadata": {},
   "outputs": [
    {
     "data": {
      "text/html": [
       "<div>\n",
       "<style scoped>\n",
       "    .dataframe tbody tr th:only-of-type {\n",
       "        vertical-align: middle;\n",
       "    }\n",
       "\n",
       "    .dataframe tbody tr th {\n",
       "        vertical-align: top;\n",
       "    }\n",
       "\n",
       "    .dataframe thead th {\n",
       "        text-align: right;\n",
       "    }\n",
       "</style>\n",
       "<table border=\"1\" class=\"dataframe\">\n",
       "  <thead>\n",
       "    <tr style=\"text-align: right;\">\n",
       "      <th></th>\n",
       "      <th>Continent</th>\n",
       "      <th>Unnamed: 1</th>\n",
       "      <th>Name</th>\n",
       "      <th>ISO 2</th>\n",
       "      <th>ISO 3</th>\n",
       "      <th>CIA</th>\n",
       "      <th>Telephone</th>\n",
       "      <th>Internet</th>\n",
       "      <th>Vehicle</th>\n",
       "    </tr>\n",
       "  </thead>\n",
       "  <tbody>\n",
       "    <tr>\n",
       "      <th>0</th>\n",
       "      <td>AS</td>\n",
       "      <td>NaN</td>\n",
       "      <td>Afghanistan</td>\n",
       "      <td>AF</td>\n",
       "      <td>AFG</td>\n",
       "      <td>af</td>\n",
       "      <td>93</td>\n",
       "      <td>.af</td>\n",
       "      <td>AFG</td>\n",
       "    </tr>\n",
       "    <tr>\n",
       "      <th>1</th>\n",
       "      <td>EU</td>\n",
       "      <td>NaN</td>\n",
       "      <td>Åland Islands</td>\n",
       "      <td>AX</td>\n",
       "      <td>ALA</td>\n",
       "      <td>fi</td>\n",
       "      <td>358 18</td>\n",
       "      <td>.ax</td>\n",
       "      <td>AX</td>\n",
       "    </tr>\n",
       "  </tbody>\n",
       "</table>\n",
       "</div>"
      ],
      "text/plain": [
       "  Continent  Unnamed: 1           Name ISO 2 ISO 3 CIA Telephone Internet  \\\n",
       "0        AS         NaN    Afghanistan    AF   AFG  af        93      .af   \n",
       "1        EU         NaN  Åland Islands    AX   ALA  fi    358 18      .ax   \n",
       "\n",
       "  Vehicle  \n",
       "0     AFG  \n",
       "1      AX  "
      ]
     },
     "execution_count": 167,
     "metadata": {},
     "output_type": "execute_result"
    }
   ],
   "source": [
    "#Importing data API\n",
    "\n",
    "import requests\n",
    "from bs4 import BeautifulSoup as bs\n",
    "country_codes = requests.get(\"https://country-code.cl/\")\n",
    "country_codes\n",
    "country_codes2 = bs(country_codes.content, 'lxml')\n",
    "table = count_codes2.find(\"table\", {\"class\":\"tablesorter mark\"})\n",
    "API_table2 = pd.read_html(str(table))[0]\n",
    "API_table2.head(2)\n",
    "\n",
    "#table = count_codes(\"table\",\"{<title>Country code list - World countries</title>\"})\n"
   ]
  },
  {
   "cell_type": "code",
   "execution_count": 168,
   "id": "4086ba3f-7d8d-4b06-932b-16e78946ef20",
   "metadata": {},
   "outputs": [
    {
     "data": {
      "text/html": [
       "<div>\n",
       "<style scoped>\n",
       "    .dataframe tbody tr th:only-of-type {\n",
       "        vertical-align: middle;\n",
       "    }\n",
       "\n",
       "    .dataframe tbody tr th {\n",
       "        vertical-align: top;\n",
       "    }\n",
       "\n",
       "    .dataframe thead th {\n",
       "        text-align: right;\n",
       "    }\n",
       "</style>\n",
       "<table border=\"1\" class=\"dataframe\">\n",
       "  <thead>\n",
       "    <tr style=\"text-align: right;\">\n",
       "      <th></th>\n",
       "      <th>Continent</th>\n",
       "      <th>country</th>\n",
       "      <th>ISO 2</th>\n",
       "    </tr>\n",
       "  </thead>\n",
       "  <tbody>\n",
       "    <tr>\n",
       "      <th>0</th>\n",
       "      <td>AS</td>\n",
       "      <td>Afghanistan</td>\n",
       "      <td>AF</td>\n",
       "    </tr>\n",
       "    <tr>\n",
       "      <th>1</th>\n",
       "      <td>EU</td>\n",
       "      <td>Åland Islands</td>\n",
       "      <td>AX</td>\n",
       "    </tr>\n",
       "  </tbody>\n",
       "</table>\n",
       "</div>"
      ],
      "text/plain": [
       "  Continent        country ISO 2\n",
       "0        AS    Afghanistan    AF\n",
       "1        EU  Åland Islands    AX"
      ]
     },
     "execution_count": 168,
     "metadata": {},
     "output_type": "execute_result"
    }
   ],
   "source": [
    "#Renaming a column\n",
    "API_table3 = API_table2.rename(columns={'Name':'country',})\n",
    "\n",
    "#Returning multiple columns\n",
    "list = ['Continent','country', 'ISO 2']\n",
    "API_table4 = API_table3[list]\n",
    "API_table4.head(2)"
   ]
  },
  {
   "cell_type": "code",
   "execution_count": 145,
   "id": "593bcad9-3da9-4629-af6d-1547b82bf1b8",
   "metadata": {},
   "outputs": [],
   "source": [
    "#Merging new_df2 with API_table2\n",
    "\n",
    "new_df3 = new_df2.merge(API_table4, how = 'left')\n",
    "\n",
    "#Setting index to ISO code\n",
    "new_df4 = new_df3.set_index('ISO 2')"
   ]
  },
  {
   "cell_type": "code",
   "execution_count": 185,
   "id": "065eeb91-c27d-4d5f-803e-bb7f23dec437",
   "metadata": {},
   "outputs": [
    {
     "data": {
      "text/html": [
       "<div>\n",
       "<style scoped>\n",
       "    .dataframe tbody tr th:only-of-type {\n",
       "        vertical-align: middle;\n",
       "    }\n",
       "\n",
       "    .dataframe tbody tr th {\n",
       "        vertical-align: top;\n",
       "    }\n",
       "\n",
       "    .dataframe thead th {\n",
       "        text-align: right;\n",
       "    }\n",
       "</style>\n",
       "<table border=\"1\" class=\"dataframe\">\n",
       "  <thead>\n",
       "    <tr style=\"text-align: right;\">\n",
       "      <th></th>\n",
       "      <th>country</th>\n",
       "      <th>corruption index</th>\n",
       "      <th>rank</th>\n",
       "      <th>life exp(yrs)</th>\n",
       "      <th>gdp</th>\n",
       "      <th>population</th>\n",
       "      <th>Natural resource rent share of GDP%</th>\n",
       "      <th>Continent</th>\n",
       "    </tr>\n",
       "    <tr>\n",
       "      <th>ISO 2</th>\n",
       "      <th></th>\n",
       "      <th></th>\n",
       "      <th></th>\n",
       "      <th></th>\n",
       "      <th></th>\n",
       "      <th></th>\n",
       "      <th></th>\n",
       "      <th></th>\n",
       "    </tr>\n",
       "  </thead>\n",
       "  <tbody>\n",
       "    <tr>\n",
       "      <th>AF</th>\n",
       "      <td>Afghanistan</td>\n",
       "      <td>173</td>\n",
       "      <td>Highly Corrupt</td>\n",
       "      <td>65.0</td>\n",
       "      <td>573.287506</td>\n",
       "      <td>38051.0</td>\n",
       "      <td>0.77</td>\n",
       "      <td>AS</td>\n",
       "    </tr>\n",
       "    <tr>\n",
       "      <th>AL</th>\n",
       "      <td>Albania</td>\n",
       "      <td>106</td>\n",
       "      <td>Average</td>\n",
       "      <td>79.0</td>\n",
       "      <td>5207.305322</td>\n",
       "      <td>2880.0</td>\n",
       "      <td>1.59</td>\n",
       "      <td>EU</td>\n",
       "    </tr>\n",
       "    <tr>\n",
       "      <th>DZ</th>\n",
       "      <td>Algeria</td>\n",
       "      <td>106</td>\n",
       "      <td>Average</td>\n",
       "      <td>77.0</td>\n",
       "      <td>4701.279743</td>\n",
       "      <td>43030.0</td>\n",
       "      <td>16.42</td>\n",
       "      <td>AF</td>\n",
       "    </tr>\n",
       "    <tr>\n",
       "      <th>AO</th>\n",
       "      <td>Angola</td>\n",
       "      <td>146</td>\n",
       "      <td>Corrupt</td>\n",
       "      <td>61.0</td>\n",
       "      <td>3111.157308</td>\n",
       "      <td>31850.0</td>\n",
       "      <td>26.19</td>\n",
       "      <td>AF</td>\n",
       "    </tr>\n",
       "    <tr>\n",
       "      <th>AR</th>\n",
       "      <td>Argentina</td>\n",
       "      <td>66</td>\n",
       "      <td>Clean</td>\n",
       "      <td>77.0</td>\n",
       "      <td>9742.455417</td>\n",
       "      <td>44833.0</td>\n",
       "      <td>2.07</td>\n",
       "      <td>SA</td>\n",
       "    </tr>\n",
       "    <tr>\n",
       "      <th>AM</th>\n",
       "      <td>Armenia</td>\n",
       "      <td>77</td>\n",
       "      <td>Clean</td>\n",
       "      <td>75.0</td>\n",
       "      <td>4732.074306</td>\n",
       "      <td>2957.0</td>\n",
       "      <td>2.11</td>\n",
       "      <td>AS</td>\n",
       "    </tr>\n",
       "    <tr>\n",
       "      <th>AU</th>\n",
       "      <td>Australia</td>\n",
       "      <td>12</td>\n",
       "      <td>Very clean</td>\n",
       "      <td>83.0</td>\n",
       "      <td>57183.379350</td>\n",
       "      <td>25408.0</td>\n",
       "      <td>5.36</td>\n",
       "      <td>OC</td>\n",
       "    </tr>\n",
       "    <tr>\n",
       "      <th>AT</th>\n",
       "      <td>Austria</td>\n",
       "      <td>12</td>\n",
       "      <td>Very clean</td>\n",
       "      <td>82.0</td>\n",
       "      <td>50536.664150</td>\n",
       "      <td>8885.0</td>\n",
       "      <td>0.13</td>\n",
       "      <td>EU</td>\n",
       "    </tr>\n",
       "    <tr>\n",
       "      <th>AZ</th>\n",
       "      <td>Azerbaijan</td>\n",
       "      <td>126</td>\n",
       "      <td>Corrupt</td>\n",
       "      <td>73.0</td>\n",
       "      <td>5895.198986</td>\n",
       "      <td>10041.0</td>\n",
       "      <td>25.46</td>\n",
       "      <td>AS</td>\n",
       "    </tr>\n",
       "    <tr>\n",
       "      <th>BS</th>\n",
       "      <td>Bahamas</td>\n",
       "      <td>29</td>\n",
       "      <td>Very clean</td>\n",
       "      <td>NaN</td>\n",
       "      <td>NaN</td>\n",
       "      <td>NaN</td>\n",
       "      <td>NaN</td>\n",
       "      <td>NaN</td>\n",
       "    </tr>\n",
       "  </tbody>\n",
       "</table>\n",
       "</div>"
      ],
      "text/plain": [
       "           country  corruption index            rank  life exp(yrs)  \\\n",
       "ISO 2                                                                 \n",
       "AF     Afghanistan               173  Highly Corrupt           65.0   \n",
       "AL         Albania               106         Average           79.0   \n",
       "DZ         Algeria               106         Average           77.0   \n",
       "AO          Angola               146         Corrupt           61.0   \n",
       "AR       Argentina                66           Clean           77.0   \n",
       "AM         Armenia                77           Clean           75.0   \n",
       "AU       Australia                12      Very clean           83.0   \n",
       "AT         Austria                12      Very clean           82.0   \n",
       "AZ      Azerbaijan               126         Corrupt           73.0   \n",
       "BS         Bahamas                29      Very clean            NaN   \n",
       "\n",
       "                gdp  population  Natural resource rent share of GDP% Continent  \n",
       "ISO 2                                                                           \n",
       "AF       573.287506     38051.0                                 0.77        AS  \n",
       "AL      5207.305322      2880.0                                 1.59        EU  \n",
       "DZ      4701.279743     43030.0                                16.42        AF  \n",
       "AO      3111.157308     31850.0                                26.19        AF  \n",
       "AR      9742.455417     44833.0                                 2.07        SA  \n",
       "AM      4732.074306      2957.0                                 2.11        AS  \n",
       "AU     57183.379350     25408.0                                 5.36        OC  \n",
       "AT     50536.664150      8885.0                                 0.13        EU  \n",
       "AZ      5895.198986     10041.0                                25.46        AS  \n",
       "BS              NaN         NaN                                  NaN       NaN  "
      ]
     },
     "execution_count": 185,
     "metadata": {},
     "output_type": "execute_result"
    }
   ],
   "source": []
  },
  {
   "cell_type": "code",
   "execution_count": 231,
   "id": "d064a954-7002-4c93-9489-12c243bab753",
   "metadata": {},
   "outputs": [
    {
     "data": {
      "text/plain": [
       "<AxesSubplot:xlabel='gdp', ylabel='life exp(yrs)'>"
      ]
     },
     "execution_count": 231,
     "metadata": {},
     "output_type": "execute_result"
    },
    {
     "data": {
      "image/png": "[encoded data removed]",
      "text/plain": [
       "<Figure size 432x288 with 1 Axes>"
      ]
     },
     "metadata": {
      "needs_background": "light"
     },
     "output_type": "display_data"
    }
   ],
   "source": [
    "sns.scatterplot(data = new_df4, x = 'gdp',y = 'life exp(yrs)',hue = \"Continent\",)"
   ]
  },
  {
   "cell_type": "code",
   "execution_count": 214,
   "id": "526d73b6-58e6-4a22-a45c-e9110c7d6ed5",
   "metadata": {},
   "outputs": [
    {
     "data": {
      "text/plain": [
       "<AxesSubplot:xlabel='gdp', ylabel='country'>"
      ]
     },
     "execution_count": 214,
     "metadata": {},
     "output_type": "execute_result"
    },
    {
     "data": {
      "image/png": "[encoded data removed]",
      "text/plain": [
       "<Figure size 432x288 with 1 Axes>"
      ]
     },
     "metadata": {
      "needs_background": "light"
     },
     "output_type": "display_data"
    }
   ],
   "source": [
    "#Sorted dataframe in descending order using the column 'gdp' to see countries with highest gdp\n",
    "df_sorted_gdp = new_df4.sort_values('gdp',ascending = False)\n",
    "\n",
    "\n",
    "#Sliced to see top 10 countries by gdp\n",
    "df_sorted_top10 = df_sorted_gdp[:10]\n",
    "\n",
    "#plotting bar chart\n",
    "sns.barplot(data = df_sorted_top10, y = 'country', x = 'gdp',)\n"
   ]
  },
  {
   "cell_type": "code",
   "execution_count": 232,
   "id": "b1942c27-c29e-4f2f-b39a-fb1c43f6aff0",
   "metadata": {},
   "outputs": [
    {
     "data": {
      "text/plain": [
       "<AxesSubplot:xlabel='population', ylabel='country'>"
      ]
     },
     "execution_count": 232,
     "metadata": {},
     "output_type": "execute_result"
    },
    {
     "data": {
      "image/png": "[encoded data removed]",
      "text/plain": [
       "<Figure size 432x288 with 1 Axes>"
      ]
     },
     "metadata": {
      "needs_background": "light"
     },
     "output_type": "display_data"
    }
   ],
   "source": [
    "##Plotted to see if population was a determing factor in gdp\n",
    "sns.barplot(data = df_sorted_top10, y = 'country', x = 'population',)"
   ]
  },
  {
   "cell_type": "code",
   "execution_count": 221,
   "id": "2f51ba3d-375a-4a85-85bc-96b193309df3",
   "metadata": {},
   "outputs": [
    {
     "data": {
      "text/plain": [
       "<AxesSubplot:xlabel='gdp', ylabel='country'>"
      ]
     },
     "execution_count": 221,
     "metadata": {},
     "output_type": "execute_result"
    },
    {
     "data": {
      "image/png": "[encoded data removed]",
      "text/plain": [
       "<Figure size 432x288 with 1 Axes>"
      ]
     },
     "metadata": {
      "needs_background": "light"
     },
     "output_type": "display_data"
    }
   ],
   "source": [
    "#Sorted dataframe in ascending order using the column 'gdp' to ses countries with lowest gdp\n",
    "df_sorted_gdp2 = new_df4.sort_values('gdp', ascending = True)\n",
    "\n",
    "#Sliced to see lowest 10 countries by gdp\n",
    "df_sorted_low10 = df_sorted_gdp2[:10]\n",
    "\n",
    "#plotting scatterplot\n",
    "sns.barplot(data = df_sorted_low10, y = 'country', x = 'gdp')"
   ]
  },
  {
   "cell_type": "code",
   "execution_count": 233,
   "id": "0081ccf4-1e99-4eed-978a-638e9e00dcc5",
   "metadata": {},
   "outputs": [
    {
     "data": {
      "text/plain": [
       "<AxesSubplot:xlabel='population', ylabel='country'>"
      ]
     },
     "execution_count": 233,
     "metadata": {},
     "output_type": "execute_result"
    },
    {
     "data": {
      "image/png": "[encoded data removed]",
      "text/plain": [
       "<Figure size 432x288 with 1 Axes>"
      ]
     },
     "metadata": {
      "needs_background": "light"
     },
     "output_type": "display_data"
    }
   ],
   "source": [
    "#Plotted to see if population was a determing factor in gdp\n",
    "sns.barplot(data = df_sorted_low10, y = 'country', x = 'population')"
   ]
  },
  {
   "cell_type": "code",
   "execution_count": 172,
   "id": "d77ca811-ce55-4aad-9fa5-b6a12551f340",
   "metadata": {},
   "outputs": [
    {
     "data": {
      "text/plain": [
       "<AxesSubplot:xlabel='gdp', ylabel='corruption index'>"
      ]
     },
     "execution_count": 172,
     "metadata": {},
     "output_type": "execute_result"
    },
    {
     "data": {
      "image/png": "[encoded data removed]",
      "text/plain": [
       "<Figure size 432x288 with 1 Axes>"
      ]
     },
     "metadata": {
      "needs_background": "light"
     },
     "output_type": "display_data"
    }
   ],
   "source": [
    "sns.scatterplot(data = new_df3, x = 'gdp',y = 'corruption index', hue = 'rank', s = 30) "
   ]
  },
  {
   "cell_type": "code",
   "execution_count": 345,
   "id": "ab3b4ad1-6bd0-4950-b5e2-6d07eb1dcf2a",
   "metadata": {},
   "outputs": [
    {
     "data": {
      "text/plain": [
       "<AxesSubplot:xlabel='gdp', ylabel='Natural resource rent share of GDP%'>"
      ]
     },
     "execution_count": 345,
     "metadata": {},
     "output_type": "execute_result"
    },
    {
     "data": {
      "image/png": "[encoded data removed]",
      "text/plain": [
       "<Figure size 432x288 with 1 Axes>"
      ]
     },
     "metadata": {
      "needs_background": "light"
     },
     "output_type": "display_data"
    }
   ],
   "source": [
    "sns.scatterplot(data = new_df2, y = 'Natural resource rent share of GDP%',x = 'gdp', hue = 'rank')"
   ]
  },
  {
   "cell_type": "code",
   "execution_count": 226,
   "id": "6dd1b030-e037-4832-962c-f63fb961287c",
   "metadata": {},
   "outputs": [
    {
     "data": {
      "text/plain": [
       "<AxesSubplot:xlabel='gdp', ylabel='population'>"
      ]
     },
     "execution_count": 226,
     "metadata": {},
     "output_type": "execute_result"
    },
    {
     "data": {
      "image/png": "[encoded data removed]",
      "text/plain": [
       "<Figure size 432x288 with 1 Axes>"
      ]
     },
     "metadata": {
      "needs_background": "light"
     },
     "output_type": "display_data"
    }
   ],
   "source": [
    "sns.scatterplot(data = new_df2, x = 'gdp', y = 'population',)"
   ]
  }
 ],
 "metadata": {
  "kernelspec": {
   "display_name": "Python 3",
   "language": "python",
   "name": "python3"
  },
  "language_info": {
   "codemirror_mode": {
    "name": "ipython",
    "version": 3
   },
   "file_extension": ".py",
   "mimetype": "text/x-python",
   "name": "python",
   "nbconvert_exporter": "python",
   "pygments_lexer": "ipython3",
   "version": "3.8.8"
  }
 },
 "nbformat": 4,
 "nbformat_minor": 5
}
