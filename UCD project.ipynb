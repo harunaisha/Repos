{
 "cells": [
  {
   "cell_type": "code",
   "execution_count": 3,
   "id": "8e9a6d93-68c7-4c2f-bcf1-5bf703057869",
   "metadata": {},
   "outputs": [],
   "source": [
    "#Importing packages\n",
    "import numpy as np\n",
    "import pandas as pd\n",
    "import seaborn as sns\n",
    "import matplotlib.pyplot as plt"
   ]
  },
  {
   "cell_type": "code",
   "execution_count": 4,
   "id": "dee54abf-50bc-4905-baec-f150d423d1e1",
   "metadata": {},
   "outputs": [],
   "source": [
    "#data importation (corruption index)\n",
    "pd.read_csv(r'C:\\Users\\harun\\Desktop\\Data\\corruption.csv') \n",
    "corruption=pd.read_csv(r'C:\\Users\\harun\\Desktop\\Data\\corruption.csv')"
   ]
  },
  {
   "cell_type": "code",
   "execution_count": 5,
   "id": "3cae3b52-6159-4360-9dd5-93ebde889131",
   "metadata": {},
   "outputs": [],
   "source": [
    "#changing index to the date \n",
    "corruption_labelled = corruption.set_index('Date')\n"
   ]
  },
  {
   "cell_type": "code",
   "execution_count": 180,
   "id": "4d5aa38b-b04d-406e-b1f8-f485725ca481",
   "metadata": {},
   "outputs": [],
   "source": [
    "#slicing \n",
    "corruption_labelled_2019 = corruption_labelled.loc[2019][['country','Value']]\n",
    "corruption_labelled_2019"
   ]
  },
  {
   "cell_type": "code",
   "execution_count": 160,
   "id": "0e567528-da9e-4c56-b027-b85923093877",
   "metadata": {},
   "outputs": [],
   "source": [
    "#sorting df in ascending order using country\n",
    "corruption_new = corruption_labelled_2019.sort_values('country')"
   ]
  },
  {
   "cell_type": "code",
   "execution_count": 221,
   "id": "7ae3d767-3c9f-48bb-893e-ad9dd2977642",
   "metadata": {},
   "outputs": [],
   "source": [
    "#Nested if (conditional) statement to return a new column \"rank\"\n",
    "#Defining a new function (rank)\n",
    "def rank(df):\n",
    "    if df['Value'] <= 40:\n",
    "        return 'Very clean'\n",
    "    elif df['Value'] > 40 and df['Value'] <= 80:\n",
    "        return 'Clean'\n",
    "    elif df['Value'] > 80 and df['Value'] <= 120:\n",
    "        return 'Average'\n",
    "    elif df['Value'] > 120 and df['Value'] <= 160:\n",
    "        return 'Corrupt'\n",
    "    else:\n",
    "    #elif df['Value'] > 160 and df['Value'] <= 200:\n",
    "        return 'Highly Corrupt'\n"
   ]
  },
  {
   "cell_type": "code",
   "execution_count": 190,
   "id": "69ce7b6f-9d8c-4232-8453-166a437d889a",
   "metadata": {},
   "outputs": [],
   "source": [
    "corruption_new['rank'] = corruption_new.apply(rank, axis=1)\n"
   ]
  },
  {
   "cell_type": "code",
   "execution_count": 215,
   "id": "36a3a3cd-6b1c-4eba-a656-a6472346169a",
   "metadata": {},
   "outputs": [
    {
     "data": {
      "text/plain": [
       "(179, 3)"
      ]
     },
     "execution_count": 215,
     "metadata": {},
     "output_type": "execute_result"
    }
   ],
   "source": [
    "#Renaming a column\n",
    "corruption_final = corruption_new.rename(columns={'Value':'corruption index'})\n",
    "corruption_final.shape\n"
   ]
  },
  {
   "cell_type": "code",
   "execution_count": 218,
   "id": "7c331eae-08cc-4c06-aaf2-a324d7673ffc",
   "metadata": {},
   "outputs": [
    {
     "data": {
      "text/html": [
       "<div>\n",
       "<style scoped>\n",
       "    .dataframe tbody tr th:only-of-type {\n",
       "        vertical-align: middle;\n",
       "    }\n",
       "\n",
       "    .dataframe tbody tr th {\n",
       "        vertical-align: top;\n",
       "    }\n",
       "\n",
       "    .dataframe thead th {\n",
       "        text-align: right;\n",
       "    }\n",
       "</style>\n",
       "<table border=\"1\" class=\"dataframe\">\n",
       "  <thead>\n",
       "    <tr style=\"text-align: right;\">\n",
       "      <th></th>\n",
       "      <th>country</th>\n",
       "      <th>corruption index</th>\n",
       "      <th>rank</th>\n",
       "    </tr>\n",
       "    <tr>\n",
       "      <th>Date</th>\n",
       "      <th></th>\n",
       "      <th></th>\n",
       "      <th></th>\n",
       "    </tr>\n",
       "  </thead>\n",
       "  <tbody>\n",
       "    <tr>\n",
       "      <th>2019</th>\n",
       "      <td>Afghanistan</td>\n",
       "      <td>173</td>\n",
       "      <td>Highly Corrupt</td>\n",
       "    </tr>\n",
       "    <tr>\n",
       "      <th>2019</th>\n",
       "      <td>Albania</td>\n",
       "      <td>106</td>\n",
       "      <td>Average</td>\n",
       "    </tr>\n",
       "    <tr>\n",
       "      <th>2019</th>\n",
       "      <td>Algeria</td>\n",
       "      <td>106</td>\n",
       "      <td>Average</td>\n",
       "    </tr>\n",
       "    <tr>\n",
       "      <th>2019</th>\n",
       "      <td>Angola</td>\n",
       "      <td>146</td>\n",
       "      <td>Corrupt</td>\n",
       "    </tr>\n",
       "    <tr>\n",
       "      <th>2019</th>\n",
       "      <td>Argentina</td>\n",
       "      <td>66</td>\n",
       "      <td>Clean</td>\n",
       "    </tr>\n",
       "  </tbody>\n",
       "</table>\n",
       "</div>"
      ],
      "text/plain": [
       "          country  corruption index            rank\n",
       "Date                                               \n",
       "2019  Afghanistan               173  Highly Corrupt\n",
       "2019      Albania               106         Average\n",
       "2019      Algeria               106         Average\n",
       "2019       Angola               146         Corrupt\n",
       "2019    Argentina                66           Clean"
      ]
     },
     "execution_count": 218,
     "metadata": {},
     "output_type": "execute_result"
    }
   ],
   "source": [
    "corruption_final.head(5)\n",
    "                     "
   ]
  },
  {
   "cell_type": "code",
   "execution_count": 20,
   "id": "75a7a03a-28c2-491a-a5b5-252f96bf380e",
   "metadata": {},
   "outputs": [],
   "source": [
    "#Data importation (life expectancy)\n",
    "life_exp = pd.read_csv(r'C:\\Users\\harun\\Desktop\\Data\\life_expectancy.csv')\n"
   ]
  },
  {
   "cell_type": "code",
   "execution_count": 22,
   "id": "20bdbe22-a39a-48e6-81ff-dc7034256d39",
   "metadata": {},
   "outputs": [],
   "source": [
    "#Setting date as index\n",
    "life_exp_labelled =life_exp.set_index('Date')\n"
   ]
  },
  {
   "cell_type": "code",
   "execution_count": 169,
   "id": "20070e80-fefc-488c-ac1d-a7cd0553293a",
   "metadata": {},
   "outputs": [],
   "source": [
    "#SLicing the rows by 2019 (dropping all 2018 rows) and dropping some colums\n",
    "life_exp_labelled1 = life_exp_labelled.loc[2019][['country','Value']]\n",
    "\n",
    "#Sorting in ascending order\n",
    "life_exp_sorted = life_exp_labelled1.sort_values ('country')"
   ]
  },
  {
   "cell_type": "code",
   "execution_count": 263,
   "id": "01269691-1041-42d8-80f5-f29133b36961",
   "metadata": {},
   "outputs": [],
   "source": [
    "#Renaming column from 'value' to 'years'\n",
    "life_exp_new = life_exp_labelled1.rename(columns={'Value':'life exp(yrs)'})\n",
    "\n",
    "#Sorting in alphabetical order\n",
    "life_exp_new1 = life_exp_new.sort_values('country')\n",
    "\n",
    "#Rounding uo values\n",
    "life_exp_final = life_exp_new1.round({'life exp(yrs)':0})"
   ]
  },
  {
   "cell_type": "code",
   "execution_count": 264,
   "id": "cc6e5cfa-fe51-41ca-acca-53f7e02ba2f4",
   "metadata": {},
   "outputs": [
    {
     "data": {
      "text/html": [
       "<div>\n",
       "<style scoped>\n",
       "    .dataframe tbody tr th:only-of-type {\n",
       "        vertical-align: middle;\n",
       "    }\n",
       "\n",
       "    .dataframe tbody tr th {\n",
       "        vertical-align: top;\n",
       "    }\n",
       "\n",
       "    .dataframe thead th {\n",
       "        text-align: right;\n",
       "    }\n",
       "</style>\n",
       "<table border=\"1\" class=\"dataframe\">\n",
       "  <thead>\n",
       "    <tr style=\"text-align: right;\">\n",
       "      <th></th>\n",
       "      <th>country</th>\n",
       "      <th>life exp(yrs)</th>\n",
       "    </tr>\n",
       "    <tr>\n",
       "      <th>Date</th>\n",
       "      <th></th>\n",
       "      <th></th>\n",
       "    </tr>\n",
       "  </thead>\n",
       "  <tbody>\n",
       "    <tr>\n",
       "      <th>2019</th>\n",
       "      <td>Afghanistan</td>\n",
       "      <td>65.0</td>\n",
       "    </tr>\n",
       "    <tr>\n",
       "      <th>2019</th>\n",
       "      <td>Albania</td>\n",
       "      <td>79.0</td>\n",
       "    </tr>\n",
       "    <tr>\n",
       "      <th>2019</th>\n",
       "      <td>Algeria</td>\n",
       "      <td>77.0</td>\n",
       "    </tr>\n",
       "    <tr>\n",
       "      <th>2019</th>\n",
       "      <td>Angola</td>\n",
       "      <td>61.0</td>\n",
       "    </tr>\n",
       "    <tr>\n",
       "      <th>2019</th>\n",
       "      <td>Antigua and Barbuda</td>\n",
       "      <td>77.0</td>\n",
       "    </tr>\n",
       "  </tbody>\n",
       "</table>\n",
       "</div>"
      ],
      "text/plain": [
       "                  country  life exp(yrs)\n",
       "Date                                    \n",
       "2019          Afghanistan           65.0\n",
       "2019              Albania           79.0\n",
       "2019              Algeria           77.0\n",
       "2019               Angola           61.0\n",
       "2019  Antigua and Barbuda           77.0"
      ]
     },
     "execution_count": 264,
     "metadata": {},
     "output_type": "execute_result"
    }
   ],
   "source": [
    "life_exp_final.head(5)"
   ]
  },
  {
   "cell_type": "code",
   "execution_count": 207,
   "id": "a2dda877-0210-4e60-8faa-b2cc68306b65",
   "metadata": {},
   "outputs": [],
   "source": [
    "#Data importation (GDP per capita)\n",
    "GDP = pd.read_csv(r'C:\\Users\\harun\\Desktop\\Data\\GDP.csv')"
   ]
  },
  {
   "cell_type": "code",
   "execution_count": 208,
   "id": "7ae95e72-cb16-4a5c-b49d-fd555ec330bc",
   "metadata": {},
   "outputs": [],
   "source": [
    "#Setting date as index\n",
    "GDP_labelled = GDP.set_index('Date')"
   ]
  },
  {
   "cell_type": "code",
   "execution_count": 239,
   "id": "5cb689ed-1198-4993-b9d7-b2c436236740",
   "metadata": {},
   "outputs": [
    {
     "data": {
      "text/html": [
       "<div>\n",
       "<style scoped>\n",
       "    .dataframe tbody tr th:only-of-type {\n",
       "        vertical-align: middle;\n",
       "    }\n",
       "\n",
       "    .dataframe tbody tr th {\n",
       "        vertical-align: top;\n",
       "    }\n",
       "\n",
       "    .dataframe thead th {\n",
       "        text-align: right;\n",
       "    }\n",
       "</style>\n",
       "<table border=\"1\" class=\"dataframe\">\n",
       "  <thead>\n",
       "    <tr style=\"text-align: right;\">\n",
       "      <th></th>\n",
       "      <th>country</th>\n",
       "      <th>gdp</th>\n",
       "    </tr>\n",
       "    <tr>\n",
       "      <th>Date</th>\n",
       "      <th></th>\n",
       "      <th></th>\n",
       "    </tr>\n",
       "  </thead>\n",
       "  <tbody>\n",
       "    <tr>\n",
       "      <th>2019</th>\n",
       "      <td>Afghanistan</td>\n",
       "      <td>573.29</td>\n",
       "    </tr>\n",
       "    <tr>\n",
       "      <th>2019</th>\n",
       "      <td>Africa Eastern and Southern</td>\n",
       "      <td>1598.38</td>\n",
       "    </tr>\n",
       "    <tr>\n",
       "      <th>2019</th>\n",
       "      <td>Albania</td>\n",
       "      <td>5207.31</td>\n",
       "    </tr>\n",
       "    <tr>\n",
       "      <th>2019</th>\n",
       "      <td>Algeria</td>\n",
       "      <td>4701.28</td>\n",
       "    </tr>\n",
       "    <tr>\n",
       "      <th>2019</th>\n",
       "      <td>American Samoa</td>\n",
       "      <td>9445.81</td>\n",
       "    </tr>\n",
       "    <tr>\n",
       "      <th>...</th>\n",
       "      <td>...</td>\n",
       "      <td>...</td>\n",
       "    </tr>\n",
       "    <tr>\n",
       "      <th>2019</th>\n",
       "      <td>Vanuatu</td>\n",
       "      <td>2865.79</td>\n",
       "    </tr>\n",
       "    <tr>\n",
       "      <th>2019</th>\n",
       "      <td>Vietnam</td>\n",
       "      <td>2082.24</td>\n",
       "    </tr>\n",
       "    <tr>\n",
       "      <th>2019</th>\n",
       "      <td>West Bank and Gaza</td>\n",
       "      <td>2951.37</td>\n",
       "    </tr>\n",
       "    <tr>\n",
       "      <th>2019</th>\n",
       "      <td>Zambia</td>\n",
       "      <td>1653.83</td>\n",
       "    </tr>\n",
       "    <tr>\n",
       "      <th>2019</th>\n",
       "      <td>Zimbabwe</td>\n",
       "      <td>1168.01</td>\n",
       "    </tr>\n",
       "  </tbody>\n",
       "</table>\n",
       "<p>195 rows × 2 columns</p>\n",
       "</div>"
      ],
      "text/plain": [
       "                          country      gdp\n",
       "Date                                      \n",
       "2019                  Afghanistan   573.29\n",
       "2019  Africa Eastern and Southern  1598.38\n",
       "2019                      Albania  5207.31\n",
       "2019                      Algeria  4701.28\n",
       "2019               American Samoa  9445.81\n",
       "...                           ...      ...\n",
       "2019                      Vanuatu  2865.79\n",
       "2019                      Vietnam  2082.24\n",
       "2019           West Bank and Gaza  2951.37\n",
       "2019                       Zambia  1653.83\n",
       "2019                     Zimbabwe  1168.01\n",
       "\n",
       "[195 rows x 2 columns]"
      ]
     },
     "execution_count": 239,
     "metadata": {},
     "output_type": "execute_result"
    }
   ],
   "source": [
    "#SLicing the rows by 2019 (dropping all 2018 rows) and dropping some colums\n",
    "GDP_labelled1 = GDP_labelled.loc[2019][['country','Value']]\n",
    "\n",
    "#sort in ascending order\n",
    "GDP_sorted = GDP_labelled1.sort_values('country')\n",
    "\n",
    "#Renaming a column from 'value' to 'gdp'\n",
    "GDP_final = GDP_sorted.rename(columns={'Value':'gdp'})\n",
    "\n",
    "#Rounding up to 2 decimal places\n",
    "GDP_final.round({'gdp':2})"
   ]
  },
  {
   "cell_type": "code",
   "execution_count": 210,
   "id": "11e61ab4-166d-47bd-980a-c1ccff115c3b",
   "metadata": {},
   "outputs": [],
   "source": [
    "#Data importation (population 2019)\n",
    "population = pd.read_csv(r'C:\\Users\\harun\\Desktop\\Data\\population.csv')"
   ]
  },
  {
   "cell_type": "code",
   "execution_count": 194,
   "id": "3889c859-2ed2-400a-a29c-44b445c71a9c",
   "metadata": {},
   "outputs": [
    {
     "data": {
      "text/plain": [
       "(203, 2)"
      ]
     },
     "execution_count": 194,
     "metadata": {},
     "output_type": "execute_result"
    }
   ],
   "source": [
    "#Renaming a column \n",
    "population_new = population.rename(columns={'Population in thousands':'population'})\n",
    "\n",
    "#sort in ascending order\n",
    "population_sorted = population_new.sort_values('country')\n",
    "population_sorted\n",
    "\n",
    "#Round up values to nearest thousand\n",
    "population_sorted1 = population_sorted.round({\"population\":0})\n",
    "\n",
    "population_sorted1.head(10)\n",
    "population_sorted1.shape\n"
   ]
  },
  {
   "cell_type": "code",
   "execution_count": 195,
   "id": "1fb4e9d8-ef15-4810-aa75-d4b1b84052ba",
   "metadata": {},
   "outputs": [
    {
     "data": {
      "text/plain": [
       "(188, 2)"
      ]
     },
     "execution_count": 195,
     "metadata": {},
     "output_type": "execute_result"
    }
   ],
   "source": [
    "#Data Importation (Natural resource rent share of GDP)\n",
    "Nat_res = pd.read_csv(r'C:\\Users\\harun\\Desktop\\Data\\Nat_res.csv') \n",
    "\n",
    "Nat_res.shape\n"
   ]
  },
  {
   "cell_type": "code",
   "execution_count": 186,
   "id": "4f41ae1b-341f-4482-be8c-8096d1a6d8ef",
   "metadata": {},
   "outputs": [],
   "source": [
    "#concatenating dataframes\n"
   ]
  },
  {
   "cell_type": "code",
   "execution_count": 231,
   "id": "4ad92a1a-f0b1-40c9-a0cd-95ae96140b9c",
   "metadata": {},
   "outputs": [
    {
     "data": {
      "text/html": [
       "<div>\n",
       "<style scoped>\n",
       "    .dataframe tbody tr th:only-of-type {\n",
       "        vertical-align: middle;\n",
       "    }\n",
       "\n",
       "    .dataframe tbody tr th {\n",
       "        vertical-align: top;\n",
       "    }\n",
       "\n",
       "    .dataframe thead th {\n",
       "        text-align: right;\n",
       "    }\n",
       "</style>\n",
       "<table border=\"1\" class=\"dataframe\">\n",
       "  <thead>\n",
       "    <tr style=\"text-align: right;\">\n",
       "      <th></th>\n",
       "      <th>country</th>\n",
       "      <th>Natural resource rent share of GDP%</th>\n",
       "    </tr>\n",
       "  </thead>\n",
       "  <tbody>\n",
       "    <tr>\n",
       "      <th>135</th>\n",
       "      <td>Afghanistan</td>\n",
       "      <td>0.77</td>\n",
       "    </tr>\n",
       "    <tr>\n",
       "      <th>30</th>\n",
       "      <td>Albania</td>\n",
       "      <td>1.59</td>\n",
       "    </tr>\n",
       "    <tr>\n",
       "      <th>113</th>\n",
       "      <td>Algeria</td>\n",
       "      <td>16.42</td>\n",
       "    </tr>\n",
       "    <tr>\n",
       "      <th>31</th>\n",
       "      <td>Andorra</td>\n",
       "      <td>0.00</td>\n",
       "    </tr>\n",
       "    <tr>\n",
       "      <th>143</th>\n",
       "      <td>Angola</td>\n",
       "      <td>26.19</td>\n",
       "    </tr>\n",
       "    <tr>\n",
       "      <th>79</th>\n",
       "      <td>Antigua and Barbuda</td>\n",
       "      <td>0.00</td>\n",
       "    </tr>\n",
       "    <tr>\n",
       "      <th>80</th>\n",
       "      <td>Argentina</td>\n",
       "      <td>2.07</td>\n",
       "    </tr>\n",
       "    <tr>\n",
       "      <th>32</th>\n",
       "      <td>Armenia</td>\n",
       "      <td>2.11</td>\n",
       "    </tr>\n",
       "    <tr>\n",
       "      <th>1</th>\n",
       "      <td>Australia</td>\n",
       "      <td>5.36</td>\n",
       "    </tr>\n",
       "    <tr>\n",
       "      <th>33</th>\n",
       "      <td>Austria</td>\n",
       "      <td>0.13</td>\n",
       "    </tr>\n",
       "  </tbody>\n",
       "</table>\n",
       "</div>"
      ],
      "text/plain": [
       "                 country  Natural resource rent share of GDP%\n",
       "135          Afghanistan                                 0.77\n",
       "30               Albania                                 1.59\n",
       "113              Algeria                                16.42\n",
       "31               Andorra                                 0.00\n",
       "143               Angola                                26.19\n",
       "79   Antigua and Barbuda                                 0.00\n",
       "80             Argentina                                 2.07\n",
       "32               Armenia                                 2.11\n",
       "1              Australia                                 5.36\n",
       "33               Austria                                 0.13"
      ]
     },
     "execution_count": 231,
     "metadata": {},
     "output_type": "execute_result"
    }
   ],
   "source": [
    "#Sort in ascending order using country\n",
    "Nat_res1 = Nat_res.sort_values('country')\n",
    "\n",
    "#Round up 'Natural resource' to 2 decimal places\n",
    "Nat_res2 = Nat_res1.round({\"Natural resource rent share of GDP%\":2})\n",
    "Nat_res2.head(10)"
   ]
  },
  {
   "cell_type": "code",
   "execution_count": 268,
   "id": "9be9b07a-ce56-4856-964d-fa97b28244a4",
   "metadata": {},
   "outputs": [],
   "source": [
    "#Merging dataframes Corruption and life expecatncy\n",
    "corruption_merged = corruption_final.merge(life_exp_final,how = 'left')\n",
    "\n",
    "new_df = corruption_merged.merge(GDP_final, how = 'left')\n",
    "\n",
    "new_df1 = new_df.merge(population_sorted1, how = 'left')\n",
    "\n",
    "new_df1\n",
    "\n"
   ]
  },
  {
   "cell_type": "code",
   "execution_count": 228,
   "id": "f6ffc0e1-7e6e-4cb1-b5d7-4c36e8915b7d",
   "metadata": {},
   "outputs": [
    {
     "data": {
      "text/plain": [
       "(195, 2)"
      ]
     },
     "execution_count": 228,
     "metadata": {},
     "output_type": "execute_result"
    }
   ],
   "source": []
  },
  {
   "cell_type": "code",
   "execution_count": null,
   "id": "ee4eb35a-a112-4c75-95a3-e01e11a3fc64",
   "metadata": {},
   "outputs": [],
   "source": []
  }
 ],
 "metadata": {
  "kernelspec": {
   "display_name": "Python 3",
   "language": "python",
   "name": "python3"
  },
  "language_info": {
   "codemirror_mode": {
    "name": "ipython",
    "version": 3
   },
   "file_extension": ".py",
   "mimetype": "text/x-python",
   "name": "python",
   "nbconvert_exporter": "python",
   "pygments_lexer": "ipython3",
   "version": "3.8.8"
  }
 },
 "nbformat": 4,
 "nbformat_minor": 5
}
